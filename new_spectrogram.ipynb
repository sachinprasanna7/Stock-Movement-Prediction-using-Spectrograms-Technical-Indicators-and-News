{
 "cells": [
  {
   "cell_type": "markdown",
   "metadata": {},
   "source": [
    "# Importing Libraries"
   ]
  },
  {
   "cell_type": "code",
   "execution_count": 1,
   "metadata": {},
   "outputs": [],
   "source": [
    "import numpy as np\n",
    "import matplotlib.pyplot as plt\n",
    "from scipy.signal import spectrogram\n",
    "import pandas as pd\n",
    "import yfinance as yf\n",
    "\n",
    "import torch\n",
    "import torch.nn as nn\n",
    "import torch.optim as optim\n",
    "from torch.utils.data import DataLoader, TensorDataset\n",
    "from torchvision import models\n",
    "import torch.nn.functional as F\n",
    "import numpy as np\n",
    "from sklearn.metrics import accuracy_score"
   ]
  },
  {
   "cell_type": "markdown",
   "metadata": {},
   "source": [
    "# Getting only Close Prices and making a Dataset"
   ]
  },
  {
   "cell_type": "code",
   "execution_count": 2,
   "metadata": {},
   "outputs": [],
   "source": [
    "folder_path = 'data/new_label_dataset/'"
   ]
  },
  {
   "cell_type": "code",
   "execution_count": 3,
   "metadata": {},
   "outputs": [],
   "source": [
    "start_date = \"2017-01-01\"\n",
    "end_date = \"2022-12-31\""
   ]
  },
  {
   "cell_type": "code",
   "execution_count": 4,
   "metadata": {},
   "outputs": [],
   "source": [
    "stock_symbol = 'AUBANK.NS'"
   ]
  },
  {
   "cell_type": "code",
   "execution_count": 41,
   "metadata": {},
   "outputs": [],
   "source": [
    "# axis_data = yf.download(stock_symbol, start=start_date, end=end_date)"
   ]
  },
  {
   "cell_type": "code",
   "execution_count": 42,
   "metadata": {},
   "outputs": [],
   "source": [
    "# axis_data.to_csv(f'{folder_path}/{stock_symbol}.csv')"
   ]
  },
  {
   "cell_type": "code",
   "execution_count": 43,
   "metadata": {},
   "outputs": [],
   "source": [
    "# axis_data.head()"
   ]
  },
  {
   "cell_type": "code",
   "execution_count": 44,
   "metadata": {},
   "outputs": [],
   "source": [
    "# axis_data['Close'].plot()"
   ]
  },
  {
   "cell_type": "code",
   "execution_count": 5,
   "metadata": {},
   "outputs": [],
   "source": [
    "aubank_data = pd.read_csv(f'{folder_path}/{stock_symbol}.csv')"
   ]
  },
  {
   "cell_type": "code",
   "execution_count": 6,
   "metadata": {},
   "outputs": [
    {
     "data": {
      "text/plain": [
       "(1322, 30)"
      ]
     },
     "execution_count": 6,
     "metadata": {},
     "output_type": "execute_result"
    }
   ],
   "source": [
    "aubank_data.shape"
   ]
  },
  {
   "cell_type": "code",
   "execution_count": 7,
   "metadata": {},
   "outputs": [
    {
     "data": {
      "text/html": [
       "<div>\n",
       "<style scoped>\n",
       "    .dataframe tbody tr th:only-of-type {\n",
       "        vertical-align: middle;\n",
       "    }\n",
       "\n",
       "    .dataframe tbody tr th {\n",
       "        vertical-align: top;\n",
       "    }\n",
       "\n",
       "    .dataframe thead th {\n",
       "        text-align: right;\n",
       "    }\n",
       "</style>\n",
       "<table border=\"1\" class=\"dataframe\">\n",
       "  <thead>\n",
       "    <tr style=\"text-align: right;\">\n",
       "      <th></th>\n",
       "      <th>Date</th>\n",
       "      <th>Open</th>\n",
       "      <th>High</th>\n",
       "      <th>Low</th>\n",
       "      <th>Close</th>\n",
       "      <th>Adj Close</th>\n",
       "      <th>Volume</th>\n",
       "      <th>SMA_9</th>\n",
       "      <th>SMA_21</th>\n",
       "      <th>EMA_9</th>\n",
       "      <th>...</th>\n",
       "      <th>BB_lower</th>\n",
       "      <th>ADX</th>\n",
       "      <th>ADX+DI</th>\n",
       "      <th>ADX-DI</th>\n",
       "      <th>CMF</th>\n",
       "      <th>OBV</th>\n",
       "      <th>CCI</th>\n",
       "      <th>Williams_%R</th>\n",
       "      <th>ATR</th>\n",
       "      <th>Target</th>\n",
       "    </tr>\n",
       "  </thead>\n",
       "  <tbody>\n",
       "    <tr>\n",
       "      <th>0</th>\n",
       "      <td>2017-08-29</td>\n",
       "      <td>265.500000</td>\n",
       "      <td>279.399994</td>\n",
       "      <td>265.500000</td>\n",
       "      <td>272.399994</td>\n",
       "      <td>270.861786</td>\n",
       "      <td>1649802</td>\n",
       "      <td>268.661109</td>\n",
       "      <td>275.953571</td>\n",
       "      <td>269.747170</td>\n",
       "      <td>...</td>\n",
       "      <td>257.109623</td>\n",
       "      <td>46.315878</td>\n",
       "      <td>15.579860</td>\n",
       "      <td>27.511465</td>\n",
       "      <td>0.182936</td>\n",
       "      <td>-7916212.0</td>\n",
       "      <td>-22.486667</td>\n",
       "      <td>-43.905643</td>\n",
       "      <td>11.294367</td>\n",
       "      <td>0.00</td>\n",
       "    </tr>\n",
       "    <tr>\n",
       "      <th>1</th>\n",
       "      <td>2017-08-30</td>\n",
       "      <td>275.000000</td>\n",
       "      <td>278.875000</td>\n",
       "      <td>274.225006</td>\n",
       "      <td>275.424988</td>\n",
       "      <td>273.869659</td>\n",
       "      <td>712294</td>\n",
       "      <td>269.036109</td>\n",
       "      <td>275.057142</td>\n",
       "      <td>270.882733</td>\n",
       "      <td>...</td>\n",
       "      <td>258.701281</td>\n",
       "      <td>44.629755</td>\n",
       "      <td>14.862239</td>\n",
       "      <td>26.244265</td>\n",
       "      <td>0.162639</td>\n",
       "      <td>-7203918.0</td>\n",
       "      <td>24.239067</td>\n",
       "      <td>-22.460356</td>\n",
       "      <td>10.919995</td>\n",
       "      <td>0.53</td>\n",
       "    </tr>\n",
       "    <tr>\n",
       "      <th>2</th>\n",
       "      <td>2017-08-31</td>\n",
       "      <td>274.899994</td>\n",
       "      <td>278.225006</td>\n",
       "      <td>273.000000</td>\n",
       "      <td>274.725006</td>\n",
       "      <td>273.173615</td>\n",
       "      <td>580208</td>\n",
       "      <td>269.366665</td>\n",
       "      <td>274.077381</td>\n",
       "      <td>271.651188</td>\n",
       "      <td>...</td>\n",
       "      <td>260.456179</td>\n",
       "      <td>43.268357</td>\n",
       "      <td>14.290231</td>\n",
       "      <td>26.136532</td>\n",
       "      <td>0.141817</td>\n",
       "      <td>-7784126.0</td>\n",
       "      <td>30.892280</td>\n",
       "      <td>-16.461228</td>\n",
       "      <td>10.480352</td>\n",
       "      <td>0.50</td>\n",
       "    </tr>\n",
       "    <tr>\n",
       "      <th>3</th>\n",
       "      <td>2017-09-01</td>\n",
       "      <td>275.500000</td>\n",
       "      <td>285.000000</td>\n",
       "      <td>273.774994</td>\n",
       "      <td>276.149994</td>\n",
       "      <td>274.590576</td>\n",
       "      <td>1765988</td>\n",
       "      <td>270.174998</td>\n",
       "      <td>273.277380</td>\n",
       "      <td>272.550949</td>\n",
       "      <td>...</td>\n",
       "      <td>262.568087</td>\n",
       "      <td>40.724434</td>\n",
       "      <td>18.056729</td>\n",
       "      <td>23.999530</td>\n",
       "      <td>0.124248</td>\n",
       "      <td>-6018138.0</td>\n",
       "      <td>96.957914</td>\n",
       "      <td>-36.875025</td>\n",
       "      <td>10.537509</td>\n",
       "      <td>0.51</td>\n",
       "    </tr>\n",
       "    <tr>\n",
       "      <th>4</th>\n",
       "      <td>2017-09-04</td>\n",
       "      <td>277.875000</td>\n",
       "      <td>282.149994</td>\n",
       "      <td>271.024994</td>\n",
       "      <td>278.500000</td>\n",
       "      <td>276.927307</td>\n",
       "      <td>1182770</td>\n",
       "      <td>271.108331</td>\n",
       "      <td>272.682142</td>\n",
       "      <td>273.740759</td>\n",
       "      <td>...</td>\n",
       "      <td>262.630387</td>\n",
       "      <td>38.798966</td>\n",
       "      <td>16.607432</td>\n",
       "      <td>24.057285</td>\n",
       "      <td>0.144057</td>\n",
       "      <td>-4835368.0</td>\n",
       "      <td>88.353220</td>\n",
       "      <td>-27.083333</td>\n",
       "      <td>10.582363</td>\n",
       "      <td>0.52</td>\n",
       "    </tr>\n",
       "    <tr>\n",
       "      <th>5</th>\n",
       "      <td>2017-09-05</td>\n",
       "      <td>280.049988</td>\n",
       "      <td>288.250000</td>\n",
       "      <td>276.575012</td>\n",
       "      <td>286.575012</td>\n",
       "      <td>284.956726</td>\n",
       "      <td>1989224</td>\n",
       "      <td>273.533332</td>\n",
       "      <td>273.030952</td>\n",
       "      <td>276.307610</td>\n",
       "      <td>...</td>\n",
       "      <td>261.445038</td>\n",
       "      <td>36.017884</td>\n",
       "      <td>19.571585</td>\n",
       "      <td>22.056518</td>\n",
       "      <td>0.186246</td>\n",
       "      <td>-2846144.0</td>\n",
       "      <td>177.568397</td>\n",
       "      <td>-6.146744</td>\n",
       "      <td>10.665375</td>\n",
       "      <td>0.57</td>\n",
       "    </tr>\n",
       "    <tr>\n",
       "      <th>6</th>\n",
       "      <td>2017-09-06</td>\n",
       "      <td>284.000000</td>\n",
       "      <td>289.000000</td>\n",
       "      <td>281.799988</td>\n",
       "      <td>283.924988</td>\n",
       "      <td>282.321686</td>\n",
       "      <td>1157354</td>\n",
       "      <td>275.899997</td>\n",
       "      <td>273.353571</td>\n",
       "      <td>277.831085</td>\n",
       "      <td>...</td>\n",
       "      <td>260.914892</td>\n",
       "      <td>33.384987</td>\n",
       "      <td>19.092384</td>\n",
       "      <td>20.902004</td>\n",
       "      <td>0.166896</td>\n",
       "      <td>-4003498.0</td>\n",
       "      <td>160.379632</td>\n",
       "      <td>-18.125044</td>\n",
       "      <td>10.403286</td>\n",
       "      <td>0.48</td>\n",
       "    </tr>\n",
       "    <tr>\n",
       "      <th>7</th>\n",
       "      <td>2017-09-07</td>\n",
       "      <td>285.625000</td>\n",
       "      <td>288.000000</td>\n",
       "      <td>277.500000</td>\n",
       "      <td>279.350006</td>\n",
       "      <td>277.772491</td>\n",
       "      <td>815452</td>\n",
       "      <td>277.336110</td>\n",
       "      <td>273.527380</td>\n",
       "      <td>278.134870</td>\n",
       "      <td>...</td>\n",
       "      <td>261.370567</td>\n",
       "      <td>31.613485</td>\n",
       "      <td>17.642099</td>\n",
       "      <td>22.425050</td>\n",
       "      <td>0.090621</td>\n",
       "      <td>-4818950.0</td>\n",
       "      <td>117.262176</td>\n",
       "      <td>-34.464264</td>\n",
       "      <td>10.410570</td>\n",
       "      <td>0.47</td>\n",
       "    </tr>\n",
       "    <tr>\n",
       "      <th>8</th>\n",
       "      <td>2017-09-08</td>\n",
       "      <td>280.500000</td>\n",
       "      <td>282.750000</td>\n",
       "      <td>275.000000</td>\n",
       "      <td>277.174988</td>\n",
       "      <td>275.609802</td>\n",
       "      <td>831916</td>\n",
       "      <td>278.247220</td>\n",
       "      <td>273.194047</td>\n",
       "      <td>277.942893</td>\n",
       "      <td>...</td>\n",
       "      <td>261.367084</td>\n",
       "      <td>30.339722</td>\n",
       "      <td>16.637531</td>\n",
       "      <td>22.984957</td>\n",
       "      <td>0.036877</td>\n",
       "      <td>-5650866.0</td>\n",
       "      <td>67.870040</td>\n",
       "      <td>-42.232186</td>\n",
       "      <td>10.210966</td>\n",
       "      <td>0.49</td>\n",
       "    </tr>\n",
       "    <tr>\n",
       "      <th>9</th>\n",
       "      <td>2017-09-11</td>\n",
       "      <td>279.375000</td>\n",
       "      <td>282.450012</td>\n",
       "      <td>275.500000</td>\n",
       "      <td>279.299988</td>\n",
       "      <td>277.722839</td>\n",
       "      <td>697004</td>\n",
       "      <td>279.013885</td>\n",
       "      <td>273.401188</td>\n",
       "      <td>278.214312</td>\n",
       "      <td>...</td>\n",
       "      <td>261.489833</td>\n",
       "      <td>29.181880</td>\n",
       "      <td>15.770295</td>\n",
       "      <td>21.786860</td>\n",
       "      <td>0.068276</td>\n",
       "      <td>-4953862.0</td>\n",
       "      <td>69.590690</td>\n",
       "      <td>-34.642901</td>\n",
       "      <td>9.967196</td>\n",
       "      <td>0.52</td>\n",
       "    </tr>\n",
       "  </tbody>\n",
       "</table>\n",
       "<p>10 rows × 30 columns</p>\n",
       "</div>"
      ],
      "text/plain": [
       "         Date        Open        High         Low       Close   Adj Close  \\\n",
       "0  2017-08-29  265.500000  279.399994  265.500000  272.399994  270.861786   \n",
       "1  2017-08-30  275.000000  278.875000  274.225006  275.424988  273.869659   \n",
       "2  2017-08-31  274.899994  278.225006  273.000000  274.725006  273.173615   \n",
       "3  2017-09-01  275.500000  285.000000  273.774994  276.149994  274.590576   \n",
       "4  2017-09-04  277.875000  282.149994  271.024994  278.500000  276.927307   \n",
       "5  2017-09-05  280.049988  288.250000  276.575012  286.575012  284.956726   \n",
       "6  2017-09-06  284.000000  289.000000  281.799988  283.924988  282.321686   \n",
       "7  2017-09-07  285.625000  288.000000  277.500000  279.350006  277.772491   \n",
       "8  2017-09-08  280.500000  282.750000  275.000000  277.174988  275.609802   \n",
       "9  2017-09-11  279.375000  282.450012  275.500000  279.299988  277.722839   \n",
       "\n",
       "    Volume       SMA_9      SMA_21       EMA_9  ...    BB_lower        ADX  \\\n",
       "0  1649802  268.661109  275.953571  269.747170  ...  257.109623  46.315878   \n",
       "1   712294  269.036109  275.057142  270.882733  ...  258.701281  44.629755   \n",
       "2   580208  269.366665  274.077381  271.651188  ...  260.456179  43.268357   \n",
       "3  1765988  270.174998  273.277380  272.550949  ...  262.568087  40.724434   \n",
       "4  1182770  271.108331  272.682142  273.740759  ...  262.630387  38.798966   \n",
       "5  1989224  273.533332  273.030952  276.307610  ...  261.445038  36.017884   \n",
       "6  1157354  275.899997  273.353571  277.831085  ...  260.914892  33.384987   \n",
       "7   815452  277.336110  273.527380  278.134870  ...  261.370567  31.613485   \n",
       "8   831916  278.247220  273.194047  277.942893  ...  261.367084  30.339722   \n",
       "9   697004  279.013885  273.401188  278.214312  ...  261.489833  29.181880   \n",
       "\n",
       "      ADX+DI     ADX-DI       CMF        OBV         CCI  Williams_%R  \\\n",
       "0  15.579860  27.511465  0.182936 -7916212.0  -22.486667   -43.905643   \n",
       "1  14.862239  26.244265  0.162639 -7203918.0   24.239067   -22.460356   \n",
       "2  14.290231  26.136532  0.141817 -7784126.0   30.892280   -16.461228   \n",
       "3  18.056729  23.999530  0.124248 -6018138.0   96.957914   -36.875025   \n",
       "4  16.607432  24.057285  0.144057 -4835368.0   88.353220   -27.083333   \n",
       "5  19.571585  22.056518  0.186246 -2846144.0  177.568397    -6.146744   \n",
       "6  19.092384  20.902004  0.166896 -4003498.0  160.379632   -18.125044   \n",
       "7  17.642099  22.425050  0.090621 -4818950.0  117.262176   -34.464264   \n",
       "8  16.637531  22.984957  0.036877 -5650866.0   67.870040   -42.232186   \n",
       "9  15.770295  21.786860  0.068276 -4953862.0   69.590690   -34.642901   \n",
       "\n",
       "         ATR  Target  \n",
       "0  11.294367    0.00  \n",
       "1  10.919995    0.53  \n",
       "2  10.480352    0.50  \n",
       "3  10.537509    0.51  \n",
       "4  10.582363    0.52  \n",
       "5  10.665375    0.57  \n",
       "6  10.403286    0.48  \n",
       "7  10.410570    0.47  \n",
       "8  10.210966    0.49  \n",
       "9   9.967196    0.52  \n",
       "\n",
       "[10 rows x 30 columns]"
      ]
     },
     "execution_count": 7,
     "metadata": {},
     "output_type": "execute_result"
    }
   ],
   "source": [
    "aubank_data.head(10)"
   ]
  },
  {
   "cell_type": "markdown",
   "metadata": {},
   "source": [
    "# Working with Spectrograms"
   ]
  },
  {
   "cell_type": "code",
   "execution_count": 8,
   "metadata": {},
   "outputs": [
    {
     "name": "stdout",
     "output_type": "stream",
     "text": [
      "1322\n"
     ]
    }
   ],
   "source": [
    "sample_data = aubank_data['Close'].values\n",
    "print(len(sample_data))"
   ]
  },
  {
   "cell_type": "code",
   "execution_count": 9,
   "metadata": {},
   "outputs": [],
   "source": [
    "reduced_data = sample_data[:30]"
   ]
  },
  {
   "cell_type": "code",
   "execution_count": 10,
   "metadata": {},
   "outputs": [
    {
     "data": {
      "image/png": "[encoded data removed]",
      "text/plain": [
       "<Figure size 640x480 with 2 Axes>"
      ]
     },
     "metadata": {},
     "output_type": "display_data"
    }
   ],
   "source": [
    "# Compute the spectrogram\n",
    "frequencies, times, Sxx = spectrogram(reduced_data, fs=1.0, window=('tukey', 0.25), nperseg=4, noverlap=1, nfft=256, detrend='constant', scaling='density', mode='psd')\n",
    "\n",
    "# Plot the spectrogram\n",
    "plt.pcolormesh(times, frequencies, 10 * np.log10(Sxx), shading='gouraud')\n",
    "plt.ylabel('Frequency [Hz]')\n",
    "plt.xlabel('Time [days]')\n",
    "plt.title('Spectrogram of Stock Close Prices')\n",
    "plt.colorbar(label='Power/Frequency (dB/Hz)')\n",
    "plt.show()"
   ]
  },
  {
   "cell_type": "code",
   "execution_count": 11,
   "metadata": {},
   "outputs": [
    {
     "name": "stdout",
     "output_type": "stream",
     "text": [
      "<class 'numpy.ndarray'>\n",
      "(129, 9)\n",
      "<class 'numpy.ndarray'>\n",
      "(129,)\n",
      "<class 'numpy.ndarray'>\n",
      "(9,)\n"
     ]
    }
   ],
   "source": [
    "print(type(Sxx))\n",
    "print(Sxx.shape)\n",
    "print(type(frequencies))\n",
    "print(frequencies.shape)\n",
    "print(type(times))\n",
    "print(times.shape)"
   ]
  },
  {
   "cell_type": "code",
   "execution_count": 12,
   "metadata": {},
   "outputs": [
    {
     "name": "stdout",
     "output_type": "stream",
     "text": [
      "[ 2.  5.  8. 11. 14. 17. 20. 23. 26.]\n"
     ]
    }
   ],
   "source": [
    "print(times)"
   ]
  },
  {
   "cell_type": "code",
   "execution_count": 13,
   "metadata": {},
   "outputs": [
    {
     "name": "stdout",
     "output_type": "stream",
     "text": [
      "[0.         0.00390625 0.0078125  0.01171875 0.015625   0.01953125\n",
      " 0.0234375  0.02734375 0.03125    0.03515625 0.0390625  0.04296875\n",
      " 0.046875   0.05078125 0.0546875  0.05859375 0.0625     0.06640625\n",
      " 0.0703125  0.07421875 0.078125   0.08203125 0.0859375  0.08984375\n",
      " 0.09375    0.09765625 0.1015625  0.10546875 0.109375   0.11328125\n",
      " 0.1171875  0.12109375 0.125      0.12890625 0.1328125  0.13671875\n",
      " 0.140625   0.14453125 0.1484375  0.15234375 0.15625    0.16015625\n",
      " 0.1640625  0.16796875 0.171875   0.17578125 0.1796875  0.18359375\n",
      " 0.1875     0.19140625 0.1953125  0.19921875 0.203125   0.20703125\n",
      " 0.2109375  0.21484375 0.21875    0.22265625 0.2265625  0.23046875\n",
      " 0.234375   0.23828125 0.2421875  0.24609375 0.25       0.25390625\n",
      " 0.2578125  0.26171875 0.265625   0.26953125 0.2734375  0.27734375\n",
      " 0.28125    0.28515625 0.2890625  0.29296875 0.296875   0.30078125\n",
      " 0.3046875  0.30859375 0.3125     0.31640625 0.3203125  0.32421875\n",
      " 0.328125   0.33203125 0.3359375  0.33984375 0.34375    0.34765625\n",
      " 0.3515625  0.35546875 0.359375   0.36328125 0.3671875  0.37109375\n",
      " 0.375      0.37890625 0.3828125  0.38671875 0.390625   0.39453125\n",
      " 0.3984375  0.40234375 0.40625    0.41015625 0.4140625  0.41796875\n",
      " 0.421875   0.42578125 0.4296875  0.43359375 0.4375     0.44140625\n",
      " 0.4453125  0.44921875 0.453125   0.45703125 0.4609375  0.46484375\n",
      " 0.46875    0.47265625 0.4765625  0.48046875 0.484375   0.48828125\n",
      " 0.4921875  0.49609375 0.5       ]\n"
     ]
    }
   ],
   "source": [
    "print(frequencies)"
   ]
  },
  {
   "cell_type": "code",
   "execution_count": 15,
   "metadata": {},
   "outputs": [
    {
     "name": "stdout",
     "output_type": "stream",
     "text": [
      "[[ 1.72521065  8.79798443  5.30003991 ...  6.16332021  0.79437703\n",
      "  30.44064774]\n",
      " [ 3.44859993 17.60809511 10.59811937 ... 12.32666954  1.59285138\n",
      "  61.12128959]\n",
      " [ 3.44314014 17.64444525 10.59224027 ... 12.32675375  1.6051382\n",
      "  61.84068262]\n",
      " ...\n",
      " [ 3.14676874 19.75703206  1.57899603 ...  1.05533514 18.85486304\n",
      "  20.94680042]\n",
      " [ 3.15196048 19.72259266  1.57672309 ...  1.04505647 18.85817778\n",
      "  20.19042085]\n",
      " [ 1.57684624  9.85555172  0.78798283 ...  0.52081426  9.42964101\n",
      "   9.96904771]]\n"
     ]
    }
   ],
   "source": [
    "print(Sxx)"
   ]
  },
  {
   "cell_type": "markdown",
   "metadata": {},
   "source": [
    "# Setting up the Prediction Models"
   ]
  },
  {
   "cell_type": "code",
   "execution_count": 16,
   "metadata": {},
   "outputs": [],
   "source": [
    "def generate_spectrogram(window_data):\n",
    "    frequencies, times, Sxx = spectrogram(window_data, fs=1.0, window=('tukey', 0.25), nperseg=4, noverlap=1, nfft=256, detrend='constant', scaling='density', mode='psd')\n",
    "    return frequencies, times, Sxx"
   ]
  },
  {
   "cell_type": "code",
   "execution_count": 17,
   "metadata": {},
   "outputs": [],
   "source": [
    "aubank_data = pd.read_csv(f'{folder_path}/{stock_symbol}.csv')"
   ]
  },
  {
   "cell_type": "code",
   "execution_count": 18,
   "metadata": {},
   "outputs": [
    {
     "name": "stdout",
     "output_type": "stream",
     "text": [
      "1322\n"
     ]
    },
    {
     "data": {
      "text/plain": [
       "[<matplotlib.lines.Line2D at 0x16fe9d24be0>]"
      ]
     },
     "execution_count": 18,
     "metadata": {},
     "output_type": "execute_result"
    },
    {
     "data": {
      "image/png": "[encoded data removed]",
      "text/plain": [
       "<Figure size 640x480 with 1 Axes>"
      ]
     },
     "metadata": {},
     "output_type": "display_data"
    }
   ],
   "source": [
    "noofdays = 60\n",
    "\n",
    "close_prices = aubank_data['Close'].values\n",
    "print(len(close_prices))\n",
    "\n",
    "# plot the close prices\n",
    "plt.plot(close_prices)"
   ]
  },
  {
   "cell_type": "code",
   "execution_count": 19,
   "metadata": {},
   "outputs": [],
   "source": [
    "targets = aubank_data['Target'].values"
   ]
  },
  {
   "cell_type": "code",
   "execution_count": 20,
   "metadata": {},
   "outputs": [
    {
     "name": "stdout",
     "output_type": "stream",
     "text": [
      "[0.   0.53 0.5  ... 0.5  0.52 0.43]\n"
     ]
    }
   ],
   "source": [
    "print(targets)"
   ]
  },
  {
   "cell_type": "code",
   "execution_count": 21,
   "metadata": {},
   "outputs": [],
   "source": [
    "# remove the first row of the data\n",
    "aubank_data = aubank_data.drop(0)\n",
    "targets = targets[1:]"
   ]
  },
  {
   "cell_type": "code",
   "execution_count": 22,
   "metadata": {},
   "outputs": [
    {
     "name": "stdout",
     "output_type": "stream",
     "text": [
      "[0.53 0.5  0.51 ... 0.5  0.52 0.43]\n"
     ]
    }
   ],
   "source": [
    "print(targets)\n",
    "close_prices = close_prices[1:]"
   ]
  },
  {
   "cell_type": "code",
   "execution_count": 23,
   "metadata": {},
   "outputs": [],
   "source": [
    "X = []\n",
    "y = []\n",
    "\n",
    "for i in range(len(close_prices) - noofdays):\n",
    "    window_data = close_prices[i:i + noofdays]\n",
    "    spectrogram_data = generate_spectrogram(window_data)\n",
    "    X.append(spectrogram_data[2])\n",
    "    y.append(targets[i + noofdays])"
   ]
  },
  {
   "cell_type": "code",
   "execution_count": 24,
   "metadata": {},
   "outputs": [
    {
     "name": "stdout",
     "output_type": "stream",
     "text": [
      "1261\n",
      "1261\n"
     ]
    }
   ],
   "source": [
    "print(len(X))\n",
    "print(len(y))"
   ]
  },
  {
   "cell_type": "code",
   "execution_count": 25,
   "metadata": {},
   "outputs": [
    {
     "name": "stdout",
     "output_type": "stream",
     "text": [
      "(1261, 129, 19)\n",
      "(1261,)\n"
     ]
    }
   ],
   "source": [
    "X = np.array(X)\n",
    "y = np.array(y)\n",
    "\n",
    "print(X.shape)\n",
    "print(y.shape)"
   ]
  },
  {
   "cell_type": "code",
   "execution_count": 26,
   "metadata": {},
   "outputs": [],
   "source": [
    "# split X and y into training and testing sets\n",
    "split_ratio = 0.8\n",
    "split_index = int(split_ratio * len(X))\n",
    "\n",
    "X_train = X[:split_index]\n",
    "y_train = y[:split_index]\n",
    "\n",
    "X_test = X[split_index:]\n",
    "y_test = y[split_index:]"
   ]
  },
  {
   "cell_type": "code",
   "execution_count": 27,
   "metadata": {},
   "outputs": [
    {
     "name": "stdout",
     "output_type": "stream",
     "text": [
      "(1008, 129, 19)\n",
      "(1008,)\n",
      "(253, 129, 19)\n",
      "(253,)\n"
     ]
    }
   ],
   "source": [
    "print(X_train.shape)\n",
    "print(y_train.shape)\n",
    "print(X_test.shape)\n",
    "print(y_test.shape)"
   ]
  },
  {
   "cell_type": "markdown",
   "metadata": {},
   "source": [
    "# Preprocess Function"
   ]
  },
  {
   "cell_type": "code",
   "execution_count": 28,
   "metadata": {},
   "outputs": [],
   "source": [
    "def preprocess_data(X_train, X_test, num_channels=3):\n",
    "    X_train = torch.tensor(X_train, dtype=torch.float32).reshape(X_train.shape[0], 1, X_train.shape[1], X_train.shape[2])\n",
    "    X_test = torch.tensor(X_test, dtype=torch.float32).reshape(X_test.shape[0], 1, X_test.shape[1], X_test.shape[2])\n",
    "\n",
    "    X_train = X_train.repeat(1, num_channels, 1, 1)\n",
    "    X_test = X_test.repeat(1, num_channels, 1, 1)\n",
    "    \n",
    "    return X_train, X_test"
   ]
  },
  {
   "cell_type": "markdown",
   "metadata": {},
   "source": [
    "# AlexNet"
   ]
  },
  {
   "cell_type": "code",
   "execution_count": 55,
   "metadata": {},
   "outputs": [],
   "source": [
    "def doAlexnet(X_train, y_train, X_test, y_test):\n",
    "\n",
    "    X_train, X_test = preprocess_data(X_train, X_test)\n",
    "\n",
    "    y_train = torch.tensor(y_train, dtype=torch.float32)\n",
    "    y_test = torch.tensor(y_test, dtype=torch.float32)\n",
    "        \n",
    "    X_train = F.interpolate(X_train, size=(224, 224), mode='bilinear', align_corners=False)\n",
    "    X_test = F.interpolate(X_test, size=(224, 224), mode='bilinear', align_corners=False)\n",
    "\n",
    "    # size of x_Train is 1008, 3, 224, 224\n",
    "    # size of y_train is 1008\n",
    "    # size of x_test is 252, 3, 224, 224\n",
    "    # size of y_test is 252\n",
    "\n",
    "    # Load pretrained AlexNet and modify it for regression\n",
    "    model = models.alexnet(pretrained=True)\n",
    "    \n",
    "    # Modify the classifier to have a single output neuron for regression\n",
    "    model.classifier[6] = nn.Sequential(\n",
    "        nn.Linear(in_features=4096, out_features=1),  # 1 output neuron for regression\n",
    "        # nn.Sigmoid()  # Removed Sigmoid to allow more flexibility in output range\n",
    "    )\n",
    "    \n",
    "    # Use Mean Absolute Error Loss (MAE)\n",
    "    criterion = nn.L1Loss()  # L1Loss for MAE\n",
    "    \n",
    "    optimizer = optim.Adam(model.parameters(), lr=0.001)\n",
    "\n",
    "    device = torch.device(\"cuda\" if torch.cuda.is_available() else \"cpu\")\n",
    "    model.to(device)\n",
    "\n",
    "    num_epochs = 10\n",
    "    batch_size = 32\n",
    "\n",
    "    X_train, X_test = X_train.to(device), X_test.to(device)\n",
    "    y_train, y_test = y_train.to(device), y_test.to(device)\n",
    "\n",
    "    train_dataset = TensorDataset(X_train, y_train)\n",
    "    test_dataset = TensorDataset(X_test, y_test)\n",
    "\n",
    "    train_loader = DataLoader(train_dataset, batch_size=batch_size, shuffle=False)\n",
    "    test_loader = DataLoader(test_dataset, batch_size=batch_size, shuffle=False)\n",
    "\n",
    "    model.train()  \n",
    "\n",
    "    for epoch in range(num_epochs):\n",
    "        running_loss = 0.0\n",
    "        total_train_outputs = []\n",
    "        total_mae_loss = 0.0  # Initialize total MAE loss for the epoch\n",
    "\n",
    "        for inputs, labels in train_loader:\n",
    "            inputs, labels = inputs.to(device), labels.to(device)\n",
    "\n",
    "            optimizer.zero_grad()  \n",
    "            outputs = model(inputs).squeeze()  # Squeeze to remove extra dimensions\n",
    "\n",
    "            loss = criterion(outputs, labels)  \n",
    "            loss.backward()\n",
    "            optimizer.step()\n",
    "\n",
    "            running_loss += loss.item()\n",
    "            \n",
    "            # Calculate MAE for this batch\n",
    "            mae = torch.mean(torch.abs(outputs - labels)).item()  # Calculate MAE for the current batch\n",
    "            total_mae_loss += mae * len(labels)  # Sum the MAE over all samples in this batch\n",
    "\n",
    "            # print(loss.item())\n",
    "            # print(len(inputs))\n",
    "            # print(len(labels))\n",
    "            # print(len(outputs))\n",
    "            # print(len(total_train_outputs))\n",
    "\n",
    "            # Collect outputs for inspection\n",
    "            total_train_outputs.extend(outputs.cpu().detach().numpy())\n",
    "\n",
    "        # Calculate average MAE loss for the epoch\n",
    "        average_mae_loss = total_mae_loss / len(train_loader.dataset)  # Divide by total number of training samples\n",
    "        print(f'Epoch [{epoch + 1}/{num_epochs}], Train MAE Loss: {average_mae_loss:.4f}')  # Print average MAE loss\n",
    "        print(f'Training Outputs: {[round(output, 2) for output in total_train_outputs[:10]]}')  # Print first 10 predicted values\n",
    "        print(f'Training Labels: {[round(label.item(), 2) for label in y_train[:10]]}')  # Print first 10 true values\n",
    "\n",
    "    outputs_test = []\n",
    "    model.eval() \n",
    "    with torch.no_grad():\n",
    "        total_loss = 0.0\n",
    "        for inputs, labels in test_loader:\n",
    "            inputs, labels = inputs.to(device), labels.to(device)\n",
    "\n",
    "            outputs = model(inputs).squeeze()\n",
    "            loss = criterion(outputs, labels)\n",
    "            total_loss += loss.item()\n",
    "\n",
    "            # Round the output to 2 decimal places and append to the list\n",
    "            outputs_test.extend([round(float(output), 2) for output in outputs.cpu()])\n",
    "\n",
    "        # Print MAE loss on the test set\n",
    "        print(f'Test MAE Loss: {total_loss / len(test_loader.dataset):.4f}')  # Calculate average MAE on the test set\n",
    "        print(f'Test Outputs: {outputs_test[:10]}')  # Print first 10 predicted test values\n",
    "        print(f'Test Labels: {[round(label.item(), 2) for label in y_test[:10]]}')  # Print first 10 true test values\n",
    "\n",
    "    return y_test, outputs_test"
   ]
  },
  {
   "cell_type": "code",
   "execution_count": 56,
   "metadata": {},
   "outputs": [
    {
     "name": "stdout",
     "output_type": "stream",
     "text": [
      "Epoch [1/10], Train MAE Loss: 12.4814\n",
      "Training Outputs: [-6.46, -14.62, -15.01, -3.38, -17.61, -14.79, -6.65, -17.75, -9.95, -10.5]\n",
      "Training Labels: [0.49, 0.52, 0.55, 0.54, 0.54, 0.52, 0.46, 0.49, 0.46, 0.52]\n",
      "Epoch [2/10], Train MAE Loss: 0.1650\n",
      "Training Outputs: [0.57, 0.59, 0.54, 0.58, 0.63, 0.59, 0.56, 0.56, 0.6, 0.62]\n",
      "Training Labels: [0.49, 0.52, 0.55, 0.54, 0.54, 0.52, 0.46, 0.49, 0.46, 0.52]\n",
      "Epoch [3/10], Train MAE Loss: 0.0599\n",
      "Training Outputs: [0.45, 0.43, 0.45, 0.44, 0.41, 0.42, 0.44, 0.45, 0.44, 0.44]\n",
      "Training Labels: [0.49, 0.52, 0.55, 0.54, 0.54, 0.52, 0.46, 0.49, 0.46, 0.52]\n",
      "Epoch [4/10], Train MAE Loss: 0.0571\n",
      "Training Outputs: [0.51, 0.53, 0.53, 0.53, 0.53, 0.51, 0.52, 0.51, 0.53, 0.51]\n",
      "Training Labels: [0.49, 0.52, 0.55, 0.54, 0.54, 0.52, 0.46, 0.49, 0.46, 0.52]\n",
      "Epoch [5/10], Train MAE Loss: 0.0569\n",
      "Training Outputs: [0.51, 0.52, 0.49, 0.46, 0.52, 0.48, 0.5, 0.48, 0.46, 0.47]\n",
      "Training Labels: [0.49, 0.52, 0.55, 0.54, 0.54, 0.52, 0.46, 0.49, 0.46, 0.52]\n",
      "Epoch [6/10], Train MAE Loss: 0.0578\n",
      "Training Outputs: [0.51, 0.54, 0.51, 0.53, 0.51, 0.49, 0.52, 0.5, 0.47, 0.53]\n",
      "Training Labels: [0.49, 0.52, 0.55, 0.54, 0.54, 0.52, 0.46, 0.49, 0.46, 0.52]\n",
      "Epoch [7/10], Train MAE Loss: 0.0587\n",
      "Training Outputs: [0.5, 0.45, 0.47, 0.48, 0.46, 0.48, 0.46, 0.42, 0.47, 0.46]\n",
      "Training Labels: [0.49, 0.52, 0.55, 0.54, 0.54, 0.52, 0.46, 0.49, 0.46, 0.52]\n",
      "Epoch [8/10], Train MAE Loss: 0.0566\n",
      "Training Outputs: [0.5, 0.5, 0.5, 0.48, 0.51, 0.48, 0.53, 0.5, 0.52, 0.53]\n",
      "Training Labels: [0.49, 0.52, 0.55, 0.54, 0.54, 0.52, 0.46, 0.49, 0.46, 0.52]\n",
      "Epoch [9/10], Train MAE Loss: 0.0565\n",
      "Training Outputs: [0.5, 0.49, 0.46, 0.46, 0.5, 0.5, 0.52, 0.48, 0.49, 0.48]\n",
      "Training Labels: [0.49, 0.52, 0.55, 0.54, 0.54, 0.52, 0.46, 0.49, 0.46, 0.52]\n",
      "Epoch [10/10], Train MAE Loss: 0.0595\n",
      "Training Outputs: [0.5, 0.48, 0.48, 0.49, 0.48, 0.47, 0.47, 0.46, 0.47, 0.47]\n",
      "Training Labels: [0.49, 0.52, 0.55, 0.54, 0.54, 0.52, 0.46, 0.49, 0.46, 0.52]\n",
      "Test MAE Loss: 0.0025\n",
      "Test Outputs: [0.51, 0.51, 0.51, 0.51, 0.51, 0.51, 0.51, 0.51, 0.51, 0.51]\n",
      "Test Labels: [0.43, 0.44, 0.6, 0.63, 0.48, 0.62, 0.63, 0.81, 0.49, 0.72]\n"
     ]
    }
   ],
   "source": [
    "y_test, outputs_test = doAlexnet(X_train, y_train, X_test, y_test)"
   ]
  },
  {
   "cell_type": "code",
   "execution_count": null,
   "metadata": {},
   "outputs": [],
   "source": []
  },
  {
   "cell_type": "markdown",
   "metadata": {},
   "source": [
    "# ResNet"
   ]
  },
  {
   "cell_type": "code",
   "execution_count": null,
   "metadata": {},
   "outputs": [],
   "source": []
  },
  {
   "cell_type": "code",
   "execution_count": 75,
   "metadata": {},
   "outputs": [],
   "source": [
    "def doresNet(X_train, y_train, X_test, y_test):\n",
    "\n",
    "    X_train, X_test = preprocess_data(X_train, X_test)\n",
    "\n",
    "    y_train = torch.tensor(y_train, dtype=torch.long)\n",
    "    y_test = torch.tensor(y_test, dtype=torch.long)\n",
    "\n",
    "    X_train = F.interpolate(X_train, size=(224, 224), mode='bilinear', align_corners=False)\n",
    "    X_test = F.interpolate(X_test, size=(224, 224), mode='bilinear', align_corners=False)\n",
    "\n",
    "    model = models.resnet18(pretrained=True)\n",
    "    model.fc = nn.Linear(model.fc.in_features, 2) \n",
    "\n",
    "    criterion = nn.CrossEntropyLoss()\n",
    "    optimizer = optim.Adam(model.parameters(), lr=0.001)\n",
    "\n",
    "    device = torch.device(\"cuda\" if torch.cuda.is_available() else \"cpu\")\n",
    "    model.to(device)\n",
    "\n",
    "    num_epochs = 10\n",
    "    batch_size = 32\n",
    "\n",
    "    X_train, X_test = X_train.to(device), X_test.to(device)\n",
    "    y_train, y_test = y_train.to(device), y_test.to(device)\n",
    "\n",
    "    train_dataset = TensorDataset(X_train, y_train)\n",
    "    test_dataset = TensorDataset(X_test, y_test)\n",
    "\n",
    "    train_loader = DataLoader(train_dataset, batch_size=batch_size, shuffle=True)\n",
    "    test_loader = DataLoader(test_dataset, batch_size=batch_size, shuffle=False)\n",
    "    \n",
    "    model.train()  \n",
    "    for epoch in range(num_epochs):\n",
    "        running_loss = 0.0\n",
    "        correct = 0\n",
    "        total = 0\n",
    "        \n",
    "        for inputs, labels in train_loader:\n",
    "            inputs, labels = inputs.to(device), labels.to(device)\n",
    "\n",
    "            optimizer.zero_grad()  \n",
    "            outputs = model(inputs) \n",
    "\n",
    "            loss = criterion(outputs, labels)  \n",
    "            loss.backward()\n",
    "            optimizer.step() \n",
    "\n",
    "            running_loss += loss.item()\n",
    "\n",
    "            _, predicted = torch.max(outputs, 1)\n",
    "            total += labels.size(0)\n",
    "            correct += (predicted == labels).sum().item()\n",
    "\n",
    "        train_accuracy = 100 * correct / total\n",
    "        print(f'Epoch [{epoch+1}/{num_epochs}], Loss: {running_loss:.4f}, Training Accuracy: {train_accuracy:.2f}%')\n",
    "\n",
    "\n",
    "    model.eval() \n",
    "    with torch.no_grad():\n",
    "        correct = 0\n",
    "        total = 0\n",
    "        for inputs, labels in test_loader:\n",
    "            inputs, labels = inputs.to(device), labels.to(device)\n",
    "\n",
    "            outputs = model(inputs)\n",
    "            _, predicted = torch.max(outputs, 1)\n",
    "            total += labels.size(0)\n",
    "            correct += (predicted == labels).sum().item()\n",
    "\n",
    "        test_accuracy = 100 * correct / total\n",
    "        print(f'Test Accuracy: {test_accuracy:.2f}%')\n"
   ]
  },
  {
   "cell_type": "markdown",
   "metadata": {},
   "source": [
    "# DenseNet"
   ]
  },
  {
   "cell_type": "code",
   "execution_count": 78,
   "metadata": {},
   "outputs": [],
   "source": [
    "def doDenseNet(X_train, y_train, X_test, y_test):\n",
    "    \n",
    "    X_train, X_test = preprocess_data(X_train, X_test)\n",
    "\n",
    "    y_train = torch.tensor(y_train, dtype=torch.long)\n",
    "    y_test = torch.tensor(y_test, dtype=torch.long)\n",
    "\n",
    "    X_train = F.interpolate(X_train, size=(224, 224), mode='bilinear', align_corners=False)\n",
    "    X_test = F.interpolate(X_test, size=(224, 224), mode='bilinear', align_corners=False)\n",
    "\n",
    "    model = models.densenet121(pretrained=True)\n",
    "    model.classifier = nn.Linear(model.classifier.in_features, 2)  \n",
    "\n",
    "    criterion = nn.CrossEntropyLoss()\n",
    "    optimizer = optim.Adam(model.parameters(), lr=0.001)\n",
    "\n",
    "    device = torch.device(\"cuda\" if torch.cuda.is_available() else \"cpu\")\n",
    "    model.to(device)\n",
    "\n",
    "    num_epochs = 10\n",
    "    batch_size = 32\n",
    "\n",
    "    X_train, X_test = X_train.to(device), X_test.to(device)\n",
    "    y_train, y_test = y_train.to(device), y_test.to(device)\n",
    "\n",
    "    train_dataset = TensorDataset(X_train, y_train)\n",
    "    test_dataset = TensorDataset(X_test, y_test)\n",
    "\n",
    "    train_loader = DataLoader(train_dataset, batch_size=batch_size, shuffle=True)\n",
    "    test_loader = DataLoader(test_dataset, batch_size=batch_size, shuffle=False)\n",
    "    \n",
    "    model.train()  \n",
    "    for epoch in range(num_epochs):\n",
    "        running_loss = 0.0\n",
    "        correct = 0\n",
    "        total = 0\n",
    "        \n",
    "        for inputs, labels in train_loader:\n",
    "            inputs, labels = inputs.to(device), labels.to(device)\n",
    "\n",
    "            optimizer.zero_grad()  \n",
    "            outputs = model(inputs) \n",
    "\n",
    "            loss = criterion(outputs, labels)  \n",
    "            loss.backward()\n",
    "            optimizer.step() \n",
    "\n",
    "            running_loss += loss.item()\n",
    "\n",
    "            _, predicted = torch.max(outputs, 1)\n",
    "            total += labels.size(0)\n",
    "            correct += (predicted == labels).sum().item()\n",
    "\n",
    "        train_accuracy = 100 * correct / total\n",
    "        print(f'Epoch [{epoch+1}/{num_epochs}], Loss: {running_loss:.4f}, Training Accuracy: {train_accuracy:.2f}%')\n",
    "\n",
    "\n",
    "    model.eval() \n",
    "    with torch.no_grad():\n",
    "        correct = 0\n",
    "        total = 0\n",
    "        for inputs, labels in test_loader:\n",
    "            inputs, labels = inputs.to(device), labels.to(device)\n",
    "\n",
    "            outputs = model(inputs)\n",
    "            _, predicted = torch.max(outputs, 1)\n",
    "            total += labels.size(0)\n",
    "            correct += (predicted == labels).sum().item()\n",
    "\n",
    "        test_accuracy = 100 * correct / total\n",
    "        print(f'Test Accuracy: {test_accuracy:.2f}%')\n"
   ]
  },
  {
   "cell_type": "markdown",
   "metadata": {},
   "source": [
    "# EfficientNet"
   ]
  },
  {
   "cell_type": "code",
   "execution_count": 82,
   "metadata": {},
   "outputs": [],
   "source": [
    "def doEfficientNet(X_train, y_train, X_test, y_test):\n",
    "    \n",
    "    X_train, X_test = preprocess_data(X_train, X_test)\n",
    "\n",
    "    y_train = torch.tensor(y_train, dtype=torch.long)\n",
    "    y_test = torch.tensor(y_test, dtype=torch.long)\n",
    "\n",
    "    X_train = F.interpolate(X_train, size=(224, 224), mode='bilinear', align_corners=False)\n",
    "    X_test = F.interpolate(X_test, size=(224, 224), mode='bilinear', align_corners=False)\n",
    "\n",
    "    model = models.efficientnet_b0(pretrained=True)\n",
    "    model.classifier[1] = nn.Linear(model.classifier[1].in_features, 2)  \n",
    "\n",
    "    criterion = nn.CrossEntropyLoss()\n",
    "    optimizer = optim.Adam(model.parameters(), lr=0.001)\n",
    "\n",
    "    device = torch.device(\"cuda\" if torch.cuda.is_available() else \"cpu\")\n",
    "    model.to(device)\n",
    "\n",
    "    num_epochs = 10\n",
    "    batch_size = 32\n",
    "\n",
    "    X_train, X_test = X_train.to(device), X_test.to(device)\n",
    "    y_train, y_test = y_train.to(device), y_test.to(device)\n",
    "\n",
    "    train_dataset = TensorDataset(X_train, y_train)\n",
    "    test_dataset = TensorDataset(X_test, y_test)\n",
    "\n",
    "    train_loader = DataLoader(train_dataset, batch_size=batch_size, shuffle=True)\n",
    "    test_loader = DataLoader(test_dataset, batch_size=batch_size, shuffle=False)\n",
    "    \n",
    "    model.train()  \n",
    "    for epoch in range(num_epochs):\n",
    "        running_loss = 0.0\n",
    "        correct = 0\n",
    "        total = 0\n",
    "        \n",
    "        for inputs, labels in train_loader:\n",
    "            inputs, labels = inputs.to(device), labels.to(device)\n",
    "\n",
    "            optimizer.zero_grad()  \n",
    "            outputs = model(inputs) \n",
    "\n",
    "            loss = criterion(outputs, labels)  \n",
    "            loss.backward()\n",
    "            optimizer.step() \n",
    "\n",
    "            running_loss += loss.item()\n",
    "\n",
    "            _, predicted = torch.max(outputs, 1)\n",
    "            total += labels.size(0)\n",
    "            correct += (predicted == labels).sum().item()\n",
    "\n",
    "        train_accuracy = 100 * correct / total\n",
    "        print(f'Epoch [{epoch+1}/{num_epochs}], Loss: {running_loss:.4f}, Training Accuracy: {train_accuracy:.2f}%')\n",
    "\n",
    "\n",
    "    model.eval() \n",
    "    with torch.no_grad():\n",
    "        correct = 0\n",
    "        total = 0\n",
    "        for inputs, labels in test_loader:\n",
    "            inputs, labels = inputs.to(device), labels.to(device)\n",
    "\n",
    "            outputs = model(inputs)\n",
    "            _, predicted = torch.max(outputs, 1)\n",
    "            total += labels.size(0)\n",
    "            correct += (predicted == labels).sum().item()\n",
    "\n",
    "        test_accuracy = 100 * correct / total\n",
    "        print(f'Test Accuracy: {test_accuracy:.2f}%')"
   ]
  },
  {
   "cell_type": "markdown",
   "metadata": {},
   "source": [
    "# Testing out Performances"
   ]
  },
  {
   "cell_type": "code",
   "execution_count": 74,
   "metadata": {},
   "outputs": [
    {
     "name": "stderr",
     "output_type": "stream",
     "text": [
      "c:\\Users\\Pdogg Windows10\\Desktop\\Semester 7\\Natural Language Processing\\Project\\nlp\\lib\\site-packages\\torchvision\\models\\_utils.py:223: UserWarning: Arguments other than a weight enum or `None` for 'weights' are deprecated since 0.13 and may be removed in the future. The current behavior is equivalent to passing `weights=AlexNet_Weights.IMAGENET1K_V1`. You can also use `weights=AlexNet_Weights.DEFAULT` to get the most up-to-date weights.\n",
      "  warnings.warn(msg)\n"
     ]
    },
    {
     "name": "stdout",
     "output_type": "stream",
     "text": [
      "Epoch [1/10], Loss: 646.0083, Training Accuracy: 54.25%\n",
      "Epoch [2/10], Loss: 17.3811, Training Accuracy: 47.68%\n",
      "Epoch [3/10], Loss: 17.5825, Training Accuracy: 48.32%\n",
      "Epoch [4/10], Loss: 17.5598, Training Accuracy: 48.45%\n",
      "Epoch [5/10], Loss: 17.3889, Training Accuracy: 50.77%\n",
      "Epoch [6/10], Loss: 17.3170, Training Accuracy: 49.48%\n",
      "Epoch [7/10], Loss: 17.4064, Training Accuracy: 48.45%\n",
      "Epoch [8/10], Loss: 17.3287, Training Accuracy: 51.29%\n",
      "Epoch [9/10], Loss: 17.3329, Training Accuracy: 48.07%\n",
      "Epoch [10/10], Loss: 17.5446, Training Accuracy: 52.84%\n",
      "Test Accuracy: 54.12%\n"
     ]
    }
   ],
   "source": [
    "doAlexnet(X_train, y_train, X_test, y_test)"
   ]
  },
  {
   "cell_type": "code",
   "execution_count": 77,
   "metadata": {},
   "outputs": [
    {
     "name": "stderr",
     "output_type": "stream",
     "text": [
      "Downloading: \"https://download.pytorch.org/models/resnet18-f37072fd.pth\" to C:\\Users\\Pdogg Windows10/.cache\\torch\\hub\\checkpoints\\resnet18-f37072fd.pth\n",
      "100.0%\n"
     ]
    },
    {
     "name": "stdout",
     "output_type": "stream",
     "text": [
      "Epoch [1/10], Loss: 18.0213, Training Accuracy: 49.10%\n",
      "Epoch [2/10], Loss: 17.6782, Training Accuracy: 47.29%\n",
      "Epoch [3/10], Loss: 17.4809, Training Accuracy: 51.68%\n",
      "Epoch [4/10], Loss: 17.5110, Training Accuracy: 50.64%\n",
      "Epoch [5/10], Loss: 17.6908, Training Accuracy: 50.39%\n",
      "Epoch [6/10], Loss: 18.4702, Training Accuracy: 49.87%\n",
      "Epoch [7/10], Loss: 17.5896, Training Accuracy: 51.93%\n",
      "Epoch [8/10], Loss: 17.6114, Training Accuracy: 49.61%\n",
      "Epoch [9/10], Loss: 17.8168, Training Accuracy: 50.39%\n",
      "Epoch [10/10], Loss: 17.2569, Training Accuracy: 51.16%\n",
      "Test Accuracy: 54.12%\n"
     ]
    }
   ],
   "source": [
    "doresNet(X_train, y_train, X_test, y_test)"
   ]
  },
  {
   "cell_type": "code",
   "execution_count": 80,
   "metadata": {},
   "outputs": [
    {
     "name": "stderr",
     "output_type": "stream",
     "text": [
      "c:\\Users\\Pdogg Windows10\\Desktop\\Semester 7\\Natural Language Processing\\Project\\nlp\\lib\\site-packages\\torchvision\\models\\_utils.py:208: UserWarning: The parameter 'pretrained' is deprecated since 0.13 and may be removed in the future, please use 'weights' instead.\n",
      "  warnings.warn(\n",
      "c:\\Users\\Pdogg Windows10\\Desktop\\Semester 7\\Natural Language Processing\\Project\\nlp\\lib\\site-packages\\torchvision\\models\\_utils.py:223: UserWarning: Arguments other than a weight enum or `None` for 'weights' are deprecated since 0.13 and may be removed in the future. The current behavior is equivalent to passing `weights=DenseNet121_Weights.IMAGENET1K_V1`. You can also use `weights=DenseNet121_Weights.DEFAULT` to get the most up-to-date weights.\n",
      "  warnings.warn(msg)\n",
      "Downloading: \"https://download.pytorch.org/models/densenet121-a639ec97.pth\" to C:\\Users\\Pdogg Windows10/.cache\\torch\\hub\\checkpoints\\densenet121-a639ec97.pth\n",
      "100.0%\n"
     ]
    },
    {
     "name": "stdout",
     "output_type": "stream",
     "text": [
      "Epoch [1/10], Loss: 18.2298, Training Accuracy: 50.13%\n",
      "Epoch [2/10], Loss: 17.4991, Training Accuracy: 49.10%\n",
      "Epoch [3/10], Loss: 17.8994, Training Accuracy: 49.10%\n",
      "Epoch [4/10], Loss: 17.6370, Training Accuracy: 50.39%\n",
      "Epoch [5/10], Loss: 18.5653, Training Accuracy: 49.36%\n",
      "Epoch [6/10], Loss: 17.8271, Training Accuracy: 47.04%\n",
      "Epoch [7/10], Loss: 17.6489, Training Accuracy: 50.64%\n",
      "Epoch [8/10], Loss: 18.3603, Training Accuracy: 51.68%\n",
      "Epoch [9/10], Loss: 17.5201, Training Accuracy: 50.90%\n",
      "Epoch [10/10], Loss: 17.3769, Training Accuracy: 51.42%\n",
      "Test Accuracy: 45.88%\n"
     ]
    }
   ],
   "source": [
    "doDenseNet(X_train, y_train, X_test, y_test)"
   ]
  },
  {
   "cell_type": "code",
   "execution_count": 83,
   "metadata": {},
   "outputs": [
    {
     "name": "stderr",
     "output_type": "stream",
     "text": [
      "c:\\Users\\Pdogg Windows10\\Desktop\\Semester 7\\Natural Language Processing\\Project\\nlp\\lib\\site-packages\\torchvision\\models\\_utils.py:208: UserWarning: The parameter 'pretrained' is deprecated since 0.13 and may be removed in the future, please use 'weights' instead.\n",
      "  warnings.warn(\n",
      "c:\\Users\\Pdogg Windows10\\Desktop\\Semester 7\\Natural Language Processing\\Project\\nlp\\lib\\site-packages\\torchvision\\models\\_utils.py:223: UserWarning: Arguments other than a weight enum or `None` for 'weights' are deprecated since 0.13 and may be removed in the future. The current behavior is equivalent to passing `weights=EfficientNet_B0_Weights.IMAGENET1K_V1`. You can also use `weights=EfficientNet_B0_Weights.DEFAULT` to get the most up-to-date weights.\n",
      "  warnings.warn(msg)\n"
     ]
    },
    {
     "name": "stdout",
     "output_type": "stream",
     "text": [
      "Epoch [1/10], Loss: 18.2757, Training Accuracy: 47.94%\n",
      "Epoch [2/10], Loss: 17.7647, Training Accuracy: 50.13%\n",
      "Epoch [3/10], Loss: 17.6910, Training Accuracy: 50.52%\n",
      "Epoch [4/10], Loss: 17.4698, Training Accuracy: 51.29%\n",
      "Epoch [5/10], Loss: 17.6021, Training Accuracy: 50.77%\n",
      "Epoch [6/10], Loss: 17.4567, Training Accuracy: 48.58%\n",
      "Epoch [7/10], Loss: 17.5328, Training Accuracy: 48.84%\n",
      "Epoch [8/10], Loss: 17.5780, Training Accuracy: 51.16%\n",
      "Epoch [9/10], Loss: 17.4795, Training Accuracy: 49.61%\n",
      "Epoch [10/10], Loss: 17.6611, Training Accuracy: 47.81%\n",
      "Test Accuracy: 45.88%\n"
     ]
    }
   ],
   "source": [
    "doEfficientNet(X_train, y_train, X_test, y_test)"
   ]
  },
  {
   "cell_type": "code",
   "execution_count": null,
   "metadata": {},
   "outputs": [],
   "source": []
  }
 ],
 "metadata": {
  "kernelspec": {
   "display_name": "nlp",
   "language": "python",
   "name": "python3"
  },
  "language_info": {
   "codemirror_mode": {
    "name": "ipython",
    "version": 3
   },
   "file_extension": ".py",
   "mimetype": "text/x-python",
   "name": "python",
   "nbconvert_exporter": "python",
   "pygments_lexer": "ipython3",
   "version": "3.8.10"
  }
 },
 "nbformat": 4,
 "nbformat_minor": 2
}
