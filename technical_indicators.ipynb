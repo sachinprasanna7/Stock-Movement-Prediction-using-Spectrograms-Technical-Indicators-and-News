{
 "cells": [
  {
   "cell_type": "markdown",
   "metadata": {},
   "source": [
    "# Importing Libraries"
   ]
  },
  {
   "cell_type": "code",
   "execution_count": 53,
   "metadata": {},
   "outputs": [],
   "source": [
    "import yfinance as yf\n",
    "import pandas_ta as ta"
   ]
  },
  {
   "cell_type": "markdown",
   "metadata": {},
   "source": [
    "# Making the Dataset"
   ]
  },
  {
   "cell_type": "code",
   "execution_count": 54,
   "metadata": {},
   "outputs": [],
   "source": [
    "folder_path = 'data/stock_technical_data/'"
   ]
  },
  {
   "cell_type": "code",
   "execution_count": 55,
   "metadata": {},
   "outputs": [],
   "source": [
    "# Bank Nifty Stock Symbols\n",
    "bank_nifty_stock_symbols = [\n",
    "    \"HDFCBANK.NS\",\n",
    "    \"AXISBANK.NS\",\n",
    "    \"ICICIBANK.NS\",\n",
    "    \"HDFCBANK.NS\",\n",
    "    \"KOTAKBANK.NS\",\n",
    "    \"SBIN.NS\",\n",
    "    \"INDUSINDBK.NS\",\n",
    "    \"BANDHANBNK.NS\",\n",
    "    \"FEDERALBNK.NS\",\n",
    "    \"PNB.NS\",\n",
    "    \"IDFCFIRSTB.NS\",\n",
    "    \"BANKBARODA.NS\",\n",
    "    \"AUBANK.NS\"\n",
    "]"
   ]
  },
  {
   "cell_type": "code",
   "execution_count": 56,
   "metadata": {},
   "outputs": [],
   "source": [
    "start_date = \"2017-01-01\"\n",
    "end_date = \"2022-12-31\""
   ]
  },
  {
   "cell_type": "code",
   "execution_count": 57,
   "metadata": {},
   "outputs": [],
   "source": [
    "def make_dataset(stock_symbol, start_date, end_date):\n",
    "\n",
    "    stock_df = yf.download(stock_symbol, start=start_date, end=end_date)\n",
    "\n",
    "    # Simple Moving Average (SMA)\n",
    "    stock_df[\"SMA_9\"] = ta.sma(stock_df[\"Close\"], length = 9)\n",
    "    stock_df[\"SMA_21\"] = ta.sma(stock_df[\"Close\"], length = 21)\n",
    "\n",
    "    # Exponential Moving Average (EMA)\n",
    "    stock_df[\"EMA_9\"] = ta.ema(stock_df[\"Close\"], length = 9)\n",
    "    stock_df[\"EMA_21\"] = ta.ema(stock_df[\"Close\"], length = 21)\n",
    "\n",
    "    # Double Exponential Moving Average (DEMA)\n",
    "    stock_df[\"DEMA_9\"] = ta.dema(stock_df[\"Close\"], length = 9)\n",
    "    stock_df[\"DEMA_21\"] = ta.dema(stock_df[\"Close\"], length = 21)\n",
    "\n",
    "    # Moving Average Convergence Divergence (MACD)\n",
    "    stock_df[\"MACD_Line\"] = ta.macd(stock_df[\"Close\"])[\"MACD_12_26_9\"]\n",
    "    stock_df[\"MACD_Signal_Line\"] = ta.macd(stock_df[\"Close\"])[\"MACDs_12_26_9\"]\n",
    "\n",
    "    # Relative Strength Index (RSI)\n",
    "    stock_df[\"RSI_14\"] = ta.rsi(stock_df[\"Close\"], length = 14) \n",
    "\n",
    "    # Stochastic Oscillator\n",
    "    stoch = ta.stoch(stock_df['High'], stock_df['Low'], stock_df['Close'], k=14, d=3)\n",
    "    stock_df[\"Stoch_Oscillator_K\"] = stoch[\"STOCHk_14_3_3\"]\n",
    "    stock_df[\"Stoch_Oscillator_D\"] = stoch[\"STOCHd_14_3_3\"]\n",
    "\n",
    "    # Bollinger Bands / Standard Deviation\n",
    "    bollinger_bands = ta.bbands(stock_df[\"Close\"], length = 20, std = 2)\n",
    "    stock_df['BB_middle'] = bollinger_bands['BBM_20_2.0']\n",
    "    stock_df['BB_upper'] = bollinger_bands['BBU_20_2.0']\n",
    "    stock_df['BB_lower'] = bollinger_bands['BBL_20_2.0']\n",
    "\n",
    "    # Average Directional Index (ADX)\n",
    "    adx = ta.adx(stock_df['High'], stock_df['Low'], stock_df['Close'], length = 14)\n",
    "    stock_df['ADX'] = adx['ADX_14']\n",
    "    stock_df['ADX+DI'] = adx['DMP_14'] \n",
    "    stock_df['ADX-DI'] = adx['DMN_14']\n",
    "\n",
    "    # Parabolic Stop and Reverse (PSAR)\n",
    "    psar = ta.psar(stock_df['High'], stock_df['Low'], stock_df['Close'])\n",
    "    stock_df['PSAR'] = psar['PSARl_0.02_0.2']\n",
    "\n",
    "    # Chaikin Money Flow (CMF)\n",
    "    stock_df['CMF'] = ta.cmf(stock_df['High'], stock_df['Low'], stock_df['Close'], stock_df['Volume'], length = 21)\n",
    "\n",
    "    # On Balance Volume (OBV)\n",
    "    stock_df['OBV'] = ta.obv(stock_df['Close'], stock_df['Volume'])\n",
    "\n",
    "    # Commodity Channel Index (CCI)\n",
    "    stock_df['CCI'] = ta.cci(stock_df['High'], stock_df['Low'], stock_df['Close'], length = 20)\n",
    "\n",
    "    # Williams %R\n",
    "    stock_df['Williams_%R'] = ta.willr(stock_df['High'], stock_df['Low'], stock_df['Close'], length = 14)\n",
    "\n",
    "    # Average True Range (ATR)\n",
    "    stock_df['ATR'] = ta.atr(stock_df['High'], stock_df['Low'], stock_df['Close'], length = 14)\n",
    "\n",
    "    return stock_df"
   ]
  },
  {
   "cell_type": "code",
   "execution_count": 58,
   "metadata": {},
   "outputs": [
    {
     "name": "stderr",
     "output_type": "stream",
     "text": [
      "[*********************100%***********************]  1 of 1 completed\n",
      "[*********************100%***********************]  1 of 1 completed"
     ]
    },
    {
     "name": "stdout",
     "output_type": "stream",
     "text": [
      "(1484, 29)\n",
      "Data for HDFCBANK.NS stored in data/stock_technical_data/HDFCBANK.NS.csv\n"
     ]
    },
    {
     "name": "stderr",
     "output_type": "stream",
     "text": [
      "\n",
      "[*********************100%***********************]  1 of 1 completed"
     ]
    },
    {
     "name": "stdout",
     "output_type": "stream",
     "text": [
      "(1484, 29)\n",
      "Data for AXISBANK.NS stored in data/stock_technical_data/AXISBANK.NS.csv\n"
     ]
    },
    {
     "name": "stderr",
     "output_type": "stream",
     "text": [
      "\n",
      "[*********************100%***********************]  1 of 1 completed"
     ]
    },
    {
     "name": "stdout",
     "output_type": "stream",
     "text": [
      "(1484, 29)\n",
      "Data for ICICIBANK.NS stored in data/stock_technical_data/ICICIBANK.NS.csv\n"
     ]
    },
    {
     "name": "stderr",
     "output_type": "stream",
     "text": [
      "\n",
      "[*********************100%***********************]  1 of 1 completed"
     ]
    },
    {
     "name": "stdout",
     "output_type": "stream",
     "text": [
      "(1484, 29)\n",
      "Data for HDFCBANK.NS stored in data/stock_technical_data/HDFCBANK.NS.csv\n"
     ]
    },
    {
     "name": "stderr",
     "output_type": "stream",
     "text": [
      "\n",
      "[*********************100%***********************]  1 of 1 completed"
     ]
    },
    {
     "name": "stdout",
     "output_type": "stream",
     "text": [
      "(1484, 29)\n",
      "Data for KOTAKBANK.NS stored in data/stock_technical_data/KOTAKBANK.NS.csv\n"
     ]
    },
    {
     "name": "stderr",
     "output_type": "stream",
     "text": [
      "\n",
      "[*********************100%***********************]  1 of 1 completed"
     ]
    },
    {
     "name": "stdout",
     "output_type": "stream",
     "text": [
      "(1484, 29)\n",
      "Data for SBIN.NS stored in data/stock_technical_data/SBIN.NS.csv\n"
     ]
    },
    {
     "name": "stderr",
     "output_type": "stream",
     "text": [
      "\n",
      "[*********************100%***********************]  1 of 1 completed"
     ]
    },
    {
     "name": "stdout",
     "output_type": "stream",
     "text": [
      "(1484, 29)\n",
      "Data for INDUSINDBK.NS stored in data/stock_technical_data/INDUSINDBK.NS.csv\n"
     ]
    },
    {
     "name": "stderr",
     "output_type": "stream",
     "text": [
      "\n",
      "[*********************100%***********************]  1 of 1 completed"
     ]
    },
    {
     "name": "stdout",
     "output_type": "stream",
     "text": [
      "(1178, 29)\n",
      "Data for BANDHANBNK.NS stored in data/stock_technical_data/BANDHANBNK.NS.csv\n"
     ]
    },
    {
     "name": "stderr",
     "output_type": "stream",
     "text": [
      "\n",
      "[*********************100%***********************]  1 of 1 completed"
     ]
    },
    {
     "name": "stdout",
     "output_type": "stream",
     "text": [
      "(1484, 29)\n",
      "Data for FEDERALBNK.NS stored in data/stock_technical_data/FEDERALBNK.NS.csv\n"
     ]
    },
    {
     "name": "stderr",
     "output_type": "stream",
     "text": [
      "\n",
      "[*********************100%***********************]  1 of 1 completed"
     ]
    },
    {
     "name": "stdout",
     "output_type": "stream",
     "text": [
      "(1484, 29)\n",
      "Data for PNB.NS stored in data/stock_technical_data/PNB.NS.csv\n"
     ]
    },
    {
     "name": "stderr",
     "output_type": "stream",
     "text": [
      "\n",
      "[*********************100%***********************]  1 of 1 completed"
     ]
    },
    {
     "name": "stdout",
     "output_type": "stream",
     "text": [
      "(1484, 29)\n",
      "Data for IDFCFIRSTB.NS stored in data/stock_technical_data/IDFCFIRSTB.NS.csv\n"
     ]
    },
    {
     "name": "stderr",
     "output_type": "stream",
     "text": [
      "\n",
      "[*********************100%***********************]  1 of 1 completed"
     ]
    },
    {
     "name": "stdout",
     "output_type": "stream",
     "text": [
      "(1484, 29)\n",
      "Data for BANKBARODA.NS stored in data/stock_technical_data/BANKBARODA.NS.csv\n"
     ]
    },
    {
     "name": "stderr",
     "output_type": "stream",
     "text": [
      "\n"
     ]
    },
    {
     "name": "stdout",
     "output_type": "stream",
     "text": [
      "(1355, 29)\n",
      "Data for AUBANK.NS stored in data/stock_technical_data/AUBANK.NS.csv\n"
     ]
    }
   ],
   "source": [
    "\n",
    "for stock_symbol in bank_nifty_stock_symbols:\n",
    "    stock_df = make_dataset(stock_symbol, start_date, end_date)\n",
    "    print(stock_df.shape)\n",
    "    stock_df.to_csv(f\"{folder_path}{stock_symbol}.csv\")\n",
    "    print(f\"Data for {stock_symbol} stored in {folder_path}{stock_symbol}.csv\")"
   ]
  },
  {
   "cell_type": "code",
   "execution_count": 59,
   "metadata": {},
   "outputs": [
    {
     "name": "stderr",
     "output_type": "stream",
     "text": [
      "[*********************100%***********************]  1 of 1 completed\n"
     ]
    }
   ],
   "source": [
    "aubank_df = make_dataset(\"AUBANK.NS\", start_date, end_date)"
   ]
  },
  {
   "cell_type": "code",
   "execution_count": 61,
   "metadata": {},
   "outputs": [
    {
     "data": {
      "text/html": [
       "<div>\n",
       "<style scoped>\n",
       "    .dataframe tbody tr th:only-of-type {\n",
       "        vertical-align: middle;\n",
       "    }\n",
       "\n",
       "    .dataframe tbody tr th {\n",
       "        vertical-align: top;\n",
       "    }\n",
       "\n",
       "    .dataframe thead th {\n",
       "        text-align: right;\n",
       "    }\n",
       "</style>\n",
       "<table border=\"1\" class=\"dataframe\">\n",
       "  <thead>\n",
       "    <tr style=\"text-align: right;\">\n",
       "      <th></th>\n",
       "      <th>Open</th>\n",
       "      <th>High</th>\n",
       "      <th>Low</th>\n",
       "      <th>Close</th>\n",
       "      <th>Adj Close</th>\n",
       "      <th>Volume</th>\n",
       "      <th>SMA_9</th>\n",
       "      <th>SMA_21</th>\n",
       "      <th>EMA_9</th>\n",
       "      <th>EMA_21</th>\n",
       "      <th>...</th>\n",
       "      <th>BB_lower</th>\n",
       "      <th>ADX</th>\n",
       "      <th>ADX+DI</th>\n",
       "      <th>ADX-DI</th>\n",
       "      <th>PSAR</th>\n",
       "      <th>CMF</th>\n",
       "      <th>OBV</th>\n",
       "      <th>CCI</th>\n",
       "      <th>Williams_%R</th>\n",
       "      <th>ATR</th>\n",
       "    </tr>\n",
       "    <tr>\n",
       "      <th>Date</th>\n",
       "      <th></th>\n",
       "      <th></th>\n",
       "      <th></th>\n",
       "      <th></th>\n",
       "      <th></th>\n",
       "      <th></th>\n",
       "      <th></th>\n",
       "      <th></th>\n",
       "      <th></th>\n",
       "      <th></th>\n",
       "      <th></th>\n",
       "      <th></th>\n",
       "      <th></th>\n",
       "      <th></th>\n",
       "      <th></th>\n",
       "      <th></th>\n",
       "      <th></th>\n",
       "      <th></th>\n",
       "      <th></th>\n",
       "      <th></th>\n",
       "      <th></th>\n",
       "    </tr>\n",
       "  </thead>\n",
       "  <tbody>\n",
       "    <tr>\n",
       "      <th>2017-07-11</th>\n",
       "      <td>268.500000</td>\n",
       "      <td>287.325012</td>\n",
       "      <td>266.200012</td>\n",
       "      <td>283.625000</td>\n",
       "      <td>282.023346</td>\n",
       "      <td>28572624</td>\n",
       "      <td>NaN</td>\n",
       "      <td>NaN</td>\n",
       "      <td>NaN</td>\n",
       "      <td>NaN</td>\n",
       "      <td>...</td>\n",
       "      <td>NaN</td>\n",
       "      <td>NaN</td>\n",
       "      <td>NaN</td>\n",
       "      <td>NaN</td>\n",
       "      <td>NaN</td>\n",
       "      <td>NaN</td>\n",
       "      <td>28572624.0</td>\n",
       "      <td>NaN</td>\n",
       "      <td>NaN</td>\n",
       "      <td>NaN</td>\n",
       "    </tr>\n",
       "    <tr>\n",
       "      <th>2017-07-12</th>\n",
       "      <td>288.225006</td>\n",
       "      <td>321.350006</td>\n",
       "      <td>287.500000</td>\n",
       "      <td>314.774994</td>\n",
       "      <td>312.997467</td>\n",
       "      <td>35549156</td>\n",
       "      <td>NaN</td>\n",
       "      <td>NaN</td>\n",
       "      <td>NaN</td>\n",
       "      <td>NaN</td>\n",
       "      <td>...</td>\n",
       "      <td>NaN</td>\n",
       "      <td>NaN</td>\n",
       "      <td>NaN</td>\n",
       "      <td>NaN</td>\n",
       "      <td>266.200012</td>\n",
       "      <td>NaN</td>\n",
       "      <td>64121780.0</td>\n",
       "      <td>NaN</td>\n",
       "      <td>NaN</td>\n",
       "      <td>NaN</td>\n",
       "    </tr>\n",
       "    <tr>\n",
       "      <th>2017-07-13</th>\n",
       "      <td>326.000000</td>\n",
       "      <td>349.475006</td>\n",
       "      <td>315.049988</td>\n",
       "      <td>345.575012</td>\n",
       "      <td>343.623535</td>\n",
       "      <td>43750394</td>\n",
       "      <td>NaN</td>\n",
       "      <td>NaN</td>\n",
       "      <td>NaN</td>\n",
       "      <td>NaN</td>\n",
       "      <td>...</td>\n",
       "      <td>NaN</td>\n",
       "      <td>NaN</td>\n",
       "      <td>NaN</td>\n",
       "      <td>NaN</td>\n",
       "      <td>266.200012</td>\n",
       "      <td>NaN</td>\n",
       "      <td>107872174.0</td>\n",
       "      <td>NaN</td>\n",
       "      <td>NaN</td>\n",
       "      <td>NaN</td>\n",
       "    </tr>\n",
       "    <tr>\n",
       "      <th>2017-07-14</th>\n",
       "      <td>348.899994</td>\n",
       "      <td>362.750000</td>\n",
       "      <td>280.549988</td>\n",
       "      <td>299.399994</td>\n",
       "      <td>297.709259</td>\n",
       "      <td>67296768</td>\n",
       "      <td>NaN</td>\n",
       "      <td>NaN</td>\n",
       "      <td>NaN</td>\n",
       "      <td>NaN</td>\n",
       "      <td>...</td>\n",
       "      <td>NaN</td>\n",
       "      <td>NaN</td>\n",
       "      <td>NaN</td>\n",
       "      <td>NaN</td>\n",
       "      <td>271.196512</td>\n",
       "      <td>NaN</td>\n",
       "      <td>40575406.0</td>\n",
       "      <td>NaN</td>\n",
       "      <td>NaN</td>\n",
       "      <td>NaN</td>\n",
       "    </tr>\n",
       "    <tr>\n",
       "      <th>2017-07-17</th>\n",
       "      <td>295.000000</td>\n",
       "      <td>306.850006</td>\n",
       "      <td>281.174988</td>\n",
       "      <td>298.049988</td>\n",
       "      <td>296.366882</td>\n",
       "      <td>23021580</td>\n",
       "      <td>NaN</td>\n",
       "      <td>NaN</td>\n",
       "      <td>NaN</td>\n",
       "      <td>NaN</td>\n",
       "      <td>...</td>\n",
       "      <td>NaN</td>\n",
       "      <td>NaN</td>\n",
       "      <td>NaN</td>\n",
       "      <td>NaN</td>\n",
       "      <td>278.520791</td>\n",
       "      <td>NaN</td>\n",
       "      <td>17553826.0</td>\n",
       "      <td>NaN</td>\n",
       "      <td>NaN</td>\n",
       "      <td>NaN</td>\n",
       "    </tr>\n",
       "  </tbody>\n",
       "</table>\n",
       "<p>5 rows × 29 columns</p>\n",
       "</div>"
      ],
      "text/plain": [
       "                  Open        High         Low       Close   Adj Close  \\\n",
       "Date                                                                     \n",
       "2017-07-11  268.500000  287.325012  266.200012  283.625000  282.023346   \n",
       "2017-07-12  288.225006  321.350006  287.500000  314.774994  312.997467   \n",
       "2017-07-13  326.000000  349.475006  315.049988  345.575012  343.623535   \n",
       "2017-07-14  348.899994  362.750000  280.549988  299.399994  297.709259   \n",
       "2017-07-17  295.000000  306.850006  281.174988  298.049988  296.366882   \n",
       "\n",
       "              Volume  SMA_9  SMA_21  EMA_9  EMA_21  ...  BB_lower  ADX  \\\n",
       "Date                                                ...                  \n",
       "2017-07-11  28572624    NaN     NaN    NaN     NaN  ...       NaN  NaN   \n",
       "2017-07-12  35549156    NaN     NaN    NaN     NaN  ...       NaN  NaN   \n",
       "2017-07-13  43750394    NaN     NaN    NaN     NaN  ...       NaN  NaN   \n",
       "2017-07-14  67296768    NaN     NaN    NaN     NaN  ...       NaN  NaN   \n",
       "2017-07-17  23021580    NaN     NaN    NaN     NaN  ...       NaN  NaN   \n",
       "\n",
       "            ADX+DI  ADX-DI        PSAR  CMF          OBV  CCI  Williams_%R  \\\n",
       "Date                                                                         \n",
       "2017-07-11     NaN     NaN         NaN  NaN   28572624.0  NaN          NaN   \n",
       "2017-07-12     NaN     NaN  266.200012  NaN   64121780.0  NaN          NaN   \n",
       "2017-07-13     NaN     NaN  266.200012  NaN  107872174.0  NaN          NaN   \n",
       "2017-07-14     NaN     NaN  271.196512  NaN   40575406.0  NaN          NaN   \n",
       "2017-07-17     NaN     NaN  278.520791  NaN   17553826.0  NaN          NaN   \n",
       "\n",
       "            ATR  \n",
       "Date             \n",
       "2017-07-11  NaN  \n",
       "2017-07-12  NaN  \n",
       "2017-07-13  NaN  \n",
       "2017-07-14  NaN  \n",
       "2017-07-17  NaN  \n",
       "\n",
       "[5 rows x 29 columns]"
      ]
     },
     "execution_count": 61,
     "metadata": {},
     "output_type": "execute_result"
    }
   ],
   "source": [
    "aubank_df.head()"
   ]
  },
  {
   "cell_type": "code",
   "execution_count": 62,
   "metadata": {},
   "outputs": [
    {
     "data": {
      "text/html": [
       "<div>\n",
       "<style scoped>\n",
       "    .dataframe tbody tr th:only-of-type {\n",
       "        vertical-align: middle;\n",
       "    }\n",
       "\n",
       "    .dataframe tbody tr th {\n",
       "        vertical-align: top;\n",
       "    }\n",
       "\n",
       "    .dataframe thead th {\n",
       "        text-align: right;\n",
       "    }\n",
       "</style>\n",
       "<table border=\"1\" class=\"dataframe\">\n",
       "  <thead>\n",
       "    <tr style=\"text-align: right;\">\n",
       "      <th></th>\n",
       "      <th>Open</th>\n",
       "      <th>High</th>\n",
       "      <th>Low</th>\n",
       "      <th>Close</th>\n",
       "      <th>Adj Close</th>\n",
       "      <th>Volume</th>\n",
       "      <th>SMA_9</th>\n",
       "      <th>SMA_21</th>\n",
       "      <th>EMA_9</th>\n",
       "      <th>EMA_21</th>\n",
       "      <th>...</th>\n",
       "      <th>BB_lower</th>\n",
       "      <th>ADX</th>\n",
       "      <th>ADX+DI</th>\n",
       "      <th>ADX-DI</th>\n",
       "      <th>PSAR</th>\n",
       "      <th>CMF</th>\n",
       "      <th>OBV</th>\n",
       "      <th>CCI</th>\n",
       "      <th>Williams_%R</th>\n",
       "      <th>ATR</th>\n",
       "    </tr>\n",
       "  </thead>\n",
       "  <tbody>\n",
       "    <tr>\n",
       "      <th>count</th>\n",
       "      <td>1355.000000</td>\n",
       "      <td>1355.000000</td>\n",
       "      <td>1355.000000</td>\n",
       "      <td>1355.000000</td>\n",
       "      <td>1355.000000</td>\n",
       "      <td>1.355000e+03</td>\n",
       "      <td>1347.000000</td>\n",
       "      <td>1335.000000</td>\n",
       "      <td>1347.000000</td>\n",
       "      <td>1335.000000</td>\n",
       "      <td>...</td>\n",
       "      <td>1336.000000</td>\n",
       "      <td>1328.000000</td>\n",
       "      <td>1341.000000</td>\n",
       "      <td>1341.000000</td>\n",
       "      <td>739.000000</td>\n",
       "      <td>1335.000000</td>\n",
       "      <td>1.355000e+03</td>\n",
       "      <td>1336.000000</td>\n",
       "      <td>1342.000000</td>\n",
       "      <td>1341.000000</td>\n",
       "    </tr>\n",
       "    <tr>\n",
       "      <th>mean</th>\n",
       "      <td>430.413322</td>\n",
       "      <td>438.241274</td>\n",
       "      <td>421.833469</td>\n",
       "      <td>430.017878</td>\n",
       "      <td>428.271012</td>\n",
       "      <td>1.769028e+06</td>\n",
       "      <td>429.705172</td>\n",
       "      <td>429.238452</td>\n",
       "      <td>429.712380</td>\n",
       "      <td>429.320999</td>\n",
       "      <td>...</td>\n",
       "      <td>392.547716</td>\n",
       "      <td>27.979974</td>\n",
       "      <td>21.226573</td>\n",
       "      <td>20.354704</td>\n",
       "      <td>404.657581</td>\n",
       "      <td>0.019021</td>\n",
       "      <td>6.259401e+07</td>\n",
       "      <td>21.357652</td>\n",
       "      <td>-44.833658</td>\n",
       "      <td>17.033593</td>\n",
       "    </tr>\n",
       "    <tr>\n",
       "      <th>std</th>\n",
       "      <td>140.180256</td>\n",
       "      <td>142.510278</td>\n",
       "      <td>137.538472</td>\n",
       "      <td>139.875776</td>\n",
       "      <td>139.556089</td>\n",
       "      <td>3.218745e+06</td>\n",
       "      <td>138.760488</td>\n",
       "      <td>136.829869</td>\n",
       "      <td>138.237417</td>\n",
       "      <td>135.665593</td>\n",
       "      <td>...</td>\n",
       "      <td>129.355492</td>\n",
       "      <td>10.737608</td>\n",
       "      <td>7.660815</td>\n",
       "      <td>8.011514</td>\n",
       "      <td>129.847306</td>\n",
       "      <td>0.167709</td>\n",
       "      <td>7.211204e+07</td>\n",
       "      <td>113.426342</td>\n",
       "      <td>27.009421</td>\n",
       "      <td>6.897520</td>\n",
       "    </tr>\n",
       "    <tr>\n",
       "      <th>min</th>\n",
       "      <td>190.000000</td>\n",
       "      <td>196.500000</td>\n",
       "      <td>183.000000</td>\n",
       "      <td>190.074997</td>\n",
       "      <td>189.362411</td>\n",
       "      <td>2.461000e+04</td>\n",
       "      <td>198.427780</td>\n",
       "      <td>206.785715</td>\n",
       "      <td>200.185417</td>\n",
       "      <td>214.670555</td>\n",
       "      <td>...</td>\n",
       "      <td>119.469471</td>\n",
       "      <td>10.782116</td>\n",
       "      <td>3.937697</td>\n",
       "      <td>2.616118</td>\n",
       "      <td>183.000000</td>\n",
       "      <td>-0.487426</td>\n",
       "      <td>-1.989554e+07</td>\n",
       "      <td>-351.556824</td>\n",
       "      <td>-100.000000</td>\n",
       "      <td>7.803421</td>\n",
       "    </tr>\n",
       "    <tr>\n",
       "      <th>25%</th>\n",
       "      <td>316.649994</td>\n",
       "      <td>322.450012</td>\n",
       "      <td>309.512512</td>\n",
       "      <td>317.125000</td>\n",
       "      <td>315.682220</td>\n",
       "      <td>4.954650e+05</td>\n",
       "      <td>317.986113</td>\n",
       "      <td>317.529763</td>\n",
       "      <td>317.250364</td>\n",
       "      <td>317.277248</td>\n",
       "      <td>...</td>\n",
       "      <td>287.566688</td>\n",
       "      <td>19.829498</td>\n",
       "      <td>15.702769</td>\n",
       "      <td>14.500794</td>\n",
       "      <td>300.016064</td>\n",
       "      <td>-0.104512</td>\n",
       "      <td>1.101430e+06</td>\n",
       "      <td>-65.991065</td>\n",
       "      <td>-67.139695</td>\n",
       "      <td>10.908416</td>\n",
       "    </tr>\n",
       "    <tr>\n",
       "      <th>50%</th>\n",
       "      <td>360.000000</td>\n",
       "      <td>366.500000</td>\n",
       "      <td>352.000000</td>\n",
       "      <td>359.524994</td>\n",
       "      <td>357.853394</td>\n",
       "      <td>1.113566e+06</td>\n",
       "      <td>356.719449</td>\n",
       "      <td>352.058331</td>\n",
       "      <td>356.543037</td>\n",
       "      <td>351.045779</td>\n",
       "      <td>...</td>\n",
       "      <td>334.549353</td>\n",
       "      <td>26.014522</td>\n",
       "      <td>20.602979</td>\n",
       "      <td>19.290568</td>\n",
       "      <td>339.953475</td>\n",
       "      <td>0.020570</td>\n",
       "      <td>3.251802e+07</td>\n",
       "      <td>30.696951</td>\n",
       "      <td>-41.422026</td>\n",
       "      <td>15.598055</td>\n",
       "    </tr>\n",
       "    <tr>\n",
       "      <th>75%</th>\n",
       "      <td>580.987488</td>\n",
       "      <td>591.237488</td>\n",
       "      <td>570.012512</td>\n",
       "      <td>580.774994</td>\n",
       "      <td>578.796936</td>\n",
       "      <td>2.074530e+06</td>\n",
       "      <td>578.556942</td>\n",
       "      <td>579.760122</td>\n",
       "      <td>580.215760</td>\n",
       "      <td>582.249277</td>\n",
       "      <td>...</td>\n",
       "      <td>531.197595</td>\n",
       "      <td>34.809767</td>\n",
       "      <td>26.146586</td>\n",
       "      <td>25.225020</td>\n",
       "      <td>536.069976</td>\n",
       "      <td>0.121374</td>\n",
       "      <td>1.292037e+08</td>\n",
       "      <td>104.572593</td>\n",
       "      <td>-21.760324</td>\n",
       "      <td>22.120444</td>\n",
       "    </tr>\n",
       "    <tr>\n",
       "      <th>max</th>\n",
       "      <td>717.000000</td>\n",
       "      <td>732.974976</td>\n",
       "      <td>711.500000</td>\n",
       "      <td>717.525024</td>\n",
       "      <td>714.835022</td>\n",
       "      <td>6.729677e+07</td>\n",
       "      <td>700.980550</td>\n",
       "      <td>689.083330</td>\n",
       "      <td>696.143318</td>\n",
       "      <td>679.502438</td>\n",
       "      <td>...</td>\n",
       "      <td>658.819359</td>\n",
       "      <td>62.939752</td>\n",
       "      <td>54.300496</td>\n",
       "      <td>49.483798</td>\n",
       "      <td>682.957500</td>\n",
       "      <td>0.532465</td>\n",
       "      <td>2.186475e+08</td>\n",
       "      <td>403.456521</td>\n",
       "      <td>0.000000</td>\n",
       "      <td>44.276451</td>\n",
       "    </tr>\n",
       "  </tbody>\n",
       "</table>\n",
       "<p>8 rows × 29 columns</p>\n",
       "</div>"
      ],
      "text/plain": [
       "              Open         High          Low        Close    Adj Close  \\\n",
       "count  1355.000000  1355.000000  1355.000000  1355.000000  1355.000000   \n",
       "mean    430.413322   438.241274   421.833469   430.017878   428.271012   \n",
       "std     140.180256   142.510278   137.538472   139.875776   139.556089   \n",
       "min     190.000000   196.500000   183.000000   190.074997   189.362411   \n",
       "25%     316.649994   322.450012   309.512512   317.125000   315.682220   \n",
       "50%     360.000000   366.500000   352.000000   359.524994   357.853394   \n",
       "75%     580.987488   591.237488   570.012512   580.774994   578.796936   \n",
       "max     717.000000   732.974976   711.500000   717.525024   714.835022   \n",
       "\n",
       "             Volume        SMA_9       SMA_21        EMA_9       EMA_21  ...  \\\n",
       "count  1.355000e+03  1347.000000  1335.000000  1347.000000  1335.000000  ...   \n",
       "mean   1.769028e+06   429.705172   429.238452   429.712380   429.320999  ...   \n",
       "std    3.218745e+06   138.760488   136.829869   138.237417   135.665593  ...   \n",
       "min    2.461000e+04   198.427780   206.785715   200.185417   214.670555  ...   \n",
       "25%    4.954650e+05   317.986113   317.529763   317.250364   317.277248  ...   \n",
       "50%    1.113566e+06   356.719449   352.058331   356.543037   351.045779  ...   \n",
       "75%    2.074530e+06   578.556942   579.760122   580.215760   582.249277  ...   \n",
       "max    6.729677e+07   700.980550   689.083330   696.143318   679.502438  ...   \n",
       "\n",
       "          BB_lower          ADX       ADX+DI       ADX-DI        PSAR  \\\n",
       "count  1336.000000  1328.000000  1341.000000  1341.000000  739.000000   \n",
       "mean    392.547716    27.979974    21.226573    20.354704  404.657581   \n",
       "std     129.355492    10.737608     7.660815     8.011514  129.847306   \n",
       "min     119.469471    10.782116     3.937697     2.616118  183.000000   \n",
       "25%     287.566688    19.829498    15.702769    14.500794  300.016064   \n",
       "50%     334.549353    26.014522    20.602979    19.290568  339.953475   \n",
       "75%     531.197595    34.809767    26.146586    25.225020  536.069976   \n",
       "max     658.819359    62.939752    54.300496    49.483798  682.957500   \n",
       "\n",
       "               CMF           OBV          CCI  Williams_%R          ATR  \n",
       "count  1335.000000  1.355000e+03  1336.000000  1342.000000  1341.000000  \n",
       "mean      0.019021  6.259401e+07    21.357652   -44.833658    17.033593  \n",
       "std       0.167709  7.211204e+07   113.426342    27.009421     6.897520  \n",
       "min      -0.487426 -1.989554e+07  -351.556824  -100.000000     7.803421  \n",
       "25%      -0.104512  1.101430e+06   -65.991065   -67.139695    10.908416  \n",
       "50%       0.020570  3.251802e+07    30.696951   -41.422026    15.598055  \n",
       "75%       0.121374  1.292037e+08   104.572593   -21.760324    22.120444  \n",
       "max       0.532465  2.186475e+08   403.456521     0.000000    44.276451  \n",
       "\n",
       "[8 rows x 29 columns]"
      ]
     },
     "execution_count": 62,
     "metadata": {},
     "output_type": "execute_result"
    }
   ],
   "source": [
    "aubank_df.describe()"
   ]
  },
  {
   "cell_type": "code",
   "execution_count": 64,
   "metadata": {},
   "outputs": [
    {
     "data": {
      "text/plain": [
       "Open                    0\n",
       "High                    0\n",
       "Low                     0\n",
       "Close                   0\n",
       "Adj Close               0\n",
       "Volume                  0\n",
       "SMA_9                   8\n",
       "SMA_21                 20\n",
       "EMA_9                   8\n",
       "EMA_21                 20\n",
       "DEMA_9                  8\n",
       "DEMA_21                20\n",
       "MACD_Line              25\n",
       "MACD_Signal_Line       33\n",
       "RSI_14                 14\n",
       "Stoch_Oscillator_K     15\n",
       "Stoch_Oscillator_D     17\n",
       "BB_middle              19\n",
       "BB_upper               19\n",
       "BB_lower               19\n",
       "ADX                    27\n",
       "ADX+DI                 14\n",
       "ADX-DI                 14\n",
       "PSAR                  616\n",
       "CMF                    20\n",
       "OBV                     0\n",
       "CCI                    19\n",
       "Williams_%R            13\n",
       "ATR                    14\n",
       "dtype: int64"
      ]
     },
     "execution_count": 64,
     "metadata": {},
     "output_type": "execute_result"
    }
   ],
   "source": [
    "aubank_df.isnull().sum()"
   ]
  }
 ],
 "metadata": {
  "kernelspec": {
   "display_name": "Python 3",
   "language": "python",
   "name": "python3"
  },
  "language_info": {
   "codemirror_mode": {
    "name": "ipython",
    "version": 3
   },
   "file_extension": ".py",
   "mimetype": "text/x-python",
   "name": "python",
   "nbconvert_exporter": "python",
   "pygments_lexer": "ipython3",
   "version": "3.8.10"
  }
 },
 "nbformat": 4,
 "nbformat_minor": 2
}
