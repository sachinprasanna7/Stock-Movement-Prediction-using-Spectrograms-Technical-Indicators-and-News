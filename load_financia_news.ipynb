{
 "cells": [
  {
   "cell_type": "code",
   "execution_count": 3,
   "metadata": {},
   "outputs": [
    {
     "data": {
      "text/html": [
       "<div>\n",
       "<style scoped>\n",
       "    .dataframe tbody tr th:only-of-type {\n",
       "        vertical-align: middle;\n",
       "    }\n",
       "\n",
       "    .dataframe tbody tr th {\n",
       "        vertical-align: top;\n",
       "    }\n",
       "\n",
       "    .dataframe thead th {\n",
       "        text-align: right;\n",
       "    }\n",
       "</style>\n",
       "<table border=\"1\" class=\"dataframe\">\n",
       "  <thead>\n",
       "    <tr style=\"text-align: right;\">\n",
       "      <th></th>\n",
       "      <th>Title</th>\n",
       "      <th>Date</th>\n",
       "    </tr>\n",
       "  </thead>\n",
       "  <tbody>\n",
       "    <tr>\n",
       "      <th>0</th>\n",
       "      <td>ATMs to become virtual bank branches, accept d...</td>\n",
       "      <td>May 26, 2020, Tuesday</td>\n",
       "    </tr>\n",
       "    <tr>\n",
       "      <th>1</th>\n",
       "      <td>IDFC First Bank seniors to forgo 65% of bonus ...</td>\n",
       "      <td>May 26, 2020, Tuesday</td>\n",
       "    </tr>\n",
       "    <tr>\n",
       "      <th>2</th>\n",
       "      <td>Huge scam in YES Bank for many years, says Enf...</td>\n",
       "      <td>May 25, 2020, Monday</td>\n",
       "    </tr>\n",
       "    <tr>\n",
       "      <th>3</th>\n",
       "      <td>Bank of Maharashtra sanctioned Rs 2,789 cr in ...</td>\n",
       "      <td>May 24, 2020, Sunday</td>\n",
       "    </tr>\n",
       "    <tr>\n",
       "      <th>4</th>\n",
       "      <td>DCB Bank's profit before tax declines 37.6% to...</td>\n",
       "      <td>May 23, 2020, Saturday</td>\n",
       "    </tr>\n",
       "  </tbody>\n",
       "</table>\n",
       "</div>"
      ],
      "text/plain": [
       "                                               Title                    Date\n",
       "0  ATMs to become virtual bank branches, accept d...   May 26, 2020, Tuesday\n",
       "1  IDFC First Bank seniors to forgo 65% of bonus ...   May 26, 2020, Tuesday\n",
       "2  Huge scam in YES Bank for many years, says Enf...    May 25, 2020, Monday\n",
       "3  Bank of Maharashtra sanctioned Rs 2,789 cr in ...    May 24, 2020, Sunday\n",
       "4  DCB Bank's profit before tax declines 37.6% to...  May 23, 2020, Saturday"
      ]
     },
     "execution_count": 3,
     "metadata": {},
     "output_type": "execute_result"
    }
   ],
   "source": [
    "import pandas as pd\n",
    "\n",
    "# Load the CSV file into a DataFrame\n",
    "df = pd.read_csv('data/news/dataset.csv')\n",
    "\n",
    "\n",
    "#keep only the columns we need - title and date\n",
    "df = df[['Title', 'Date']]\n",
    "\n",
    "# Display the first few rows of the DataFrame\n",
    "df.head()"
   ]
  },
  {
   "cell_type": "code",
   "execution_count": 8,
   "metadata": {},
   "outputs": [
    {
     "name": "stdout",
     "output_type": "stream",
     "text": [
      "(4726, 2)\n"
     ]
    }
   ],
   "source": [
    "# Convert the 'Date' column to datetime format\n",
    "df['Date'] = pd.to_datetime(df['Date'], errors='coerce')\n",
    "\n",
    "# Filter the DataFrame for dates between 2018 and 2020\n",
    "filtered_df = df[(df['Date'] >= '2018-01-01') & (df['Date'] <= '2020-12-31')]\n",
    "\n",
    "# Display the first few rows of the filtered DataFrame\n",
    "filtered_df.head()\n",
    "\n",
    "# Save the filtered DataFrame to a new CSV file\n",
    "filtered_df.to_csv('filtered_dataset.csv', index=False)\n",
    "\n",
    "# Display the shape of the filtered DataFrame\n",
    "print(filtered_df.shape)"
   ]
  },
  {
   "cell_type": "code",
   "execution_count": null,
   "metadata": {},
   "outputs": [],
   "source": [
    "import pandas as pd\n",
    "from transformers import pipeline\n",
    "import spacy\n",
    "# from textblob import TextBlob\n",
    "\n",
    "# Load the FinBERT sentiment analysis model\n",
    "sentiment_pipeline = pipeline(\"sentiment-analysis\", model=\"yiyanghkust/finbert-tone\")\n",
    "\n",
    "\n",
    "# Load your dataset\n",
    "df = pd.read_csv(\"data/news/filtered_dataset.csv\", names=[\"Title\", \"Date\"])\n",
    "\n",
    "# Apply the sentiment analysis model to the 'Title' column and get sentiment scores\n",
    "df['Sentiment'] = df['Title'].apply(lambda x: sentiment_pipeline(x)[0]['label'])\n",
    "# df['Sentiment_Score'] = df['Title'].apply(lambda x: TextBlob(x).sentiment.polarity)\n",
    "\n",
    "# Extract named entities\n",
    "def extract_entities(text):\n",
    "    doc = nlp(text)\n",
    "    return [(ent.text, ent.label_) for ent in doc.ents]\n",
    "\n",
    "df['Entities'] = df['Title'].apply(extract_entities)\n",
    "\n",
    "# Display the enriched DataFrame\n",
    "print(df.head())"
   ]
  },
  {
   "cell_type": "code",
   "execution_count": null,
   "metadata": {},
   "outputs": [],
   "source": [
    "import openai\n",
    "\n",
    "# Set up your OpenAI API key\n",
    "openai.api_key = 'your-api-key-here'\n",
    "\n",
    "# Define a function to get a response from OpenAI API\n",
    "def get_openai_response(prompt):\n",
    "    response = openai.Completion.create(\n",
    "        engine=\"text-davinci-003\",\n",
    "        prompt=prompt,\n",
    "        max_tokens=100\n",
    "    )\n",
    "    return response.choices[0].text.strip()\n",
    "\n",
    "# Loop over the top 10 headlines in the DataFrame\n",
    "for headline in df['Title'].head(10):\n",
    "    prompt = f\"\"\"\n",
    "    Extract the following features from the news headline:\n",
    "    1. Named Entities\n",
    "    2. Topic\n",
    "    3. Sector/Industry\n",
    "    4. Financial Metrics\n",
    "    5. Tone\n",
    "\n",
    "    Headline: \"{headline}\"\n",
    "    \"\"\"\n",
    "    response = get_openai_response(prompt)\n",
    "    print(f\"Headline: {headline}\\nResponse: {response}\\n\")"
   ]
  },
  {
   "cell_type": "markdown",
   "metadata": {},
   "source": [
    "| **News** | **Sentiment** | **Named Entities** | **Topic** | **Sector/Industry** | **Financial Metrics** | **Tone** |\n",
    "|-------------------------------------------|----------------|-----------------------------|-------------------------|------------------------|--------------------------|------------------|\n",
    "| NBFC yields yet to show contraction...    | Neutral        | NBFC, Govt                  | Spreads                  | Finance                 | None                     | Neutral          |\n",
    "| Sitharaman gives liquidity boost...       | Positive       | Sitharaman, Shadow Banks, MFIs | Liquidity Boost         | Finance                 | Rs 75,000 cr             | Optimistic       |\n",
    "| Kotak Bank profit before tax slips...     | Negative       | Kotak Bank                  | Earnings Report          | Banking                 | 10.6% decrease, Rs 2,674 cr | Cautionary    |\n",
    "| Differentiated bank holdco norms...       | Positive       | Bandhan, IDFC First          | Regulation Change        | Banking                 | None                     | Optimistic       |\n",
    "| Bad bank may start with Rs 60K-crore...   | Neutral        | Bad Bank, Govt               | NPA Management           | Banking                 | Rs 60K-crore NPAs         | Neutral          |\n",
    "| Some MSMEs may need deep restructuring... | Negative       | MSMEs, Union Bank            | Restructuring            | Finance                 | None                     | Cautionary       |\n",
    "| IBA considering proposal to set up...     | Positive       | IBA, PSBs                   | NPA Management           | Banking                 | None                     | Optimistic       |\n",
    "| Not offering any emergency loan...        | Neutral        | SBI, YONO                   | Clarification            | Banking                 | None                     | Neutral          |\n"
   ]
  },
  {
   "cell_type": "code",
   "execution_count": null,
   "metadata": {},
   "outputs": [],
   "source": []
  }
 ],
 "metadata": {
  "kernelspec": {
   "display_name": "Python 3",
   "language": "python",
   "name": "python3"
  },
  "language_info": {
   "codemirror_mode": {
    "name": "ipython",
    "version": 3
   },
   "file_extension": ".py",
   "mimetype": "text/x-python",
   "name": "python",
   "nbconvert_exporter": "python",
   "pygments_lexer": "ipython3",
   "version": "3.11.5"
  }
 },
 "nbformat": 4,
 "nbformat_minor": 2
}
